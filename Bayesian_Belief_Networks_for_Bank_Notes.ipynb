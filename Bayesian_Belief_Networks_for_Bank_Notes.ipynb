{
 "cells": [
  {
   "cell_type": "markdown",
   "metadata": {},
   "source": [
    "## Bank Note data processing for Decision Making\n",
    "\n",
    "#### Bank note authentication data:\n",
    "https://archive.ics.uci.edu/ml/datasets/banknote+authentication#\n",
    "\n",
    "Download the data set consisting of the actual data and the data set information is given in the webpage. \n",
    "\n",
    "\n",
    "You are required to do the following:\n",
    "______________________________________________________________________\n",
    "1.\tConstruct a Bayesian Belief Network for the given data.\n",
    "2. Use appropriate methods to predict the following:\n",
    "\n",
    "Predict the probability of  data having the following values:\n",
    "> Variance: 3.6216 , skewness: 8.6661, curtosis : -2.8073 , entropy : -0.44699, and the class is 0.\n",
    "\n",
    "Predict the if the note is genuine or fake with the following attribute values: \n",
    "> Variance: -1.8439, skewness: -8.6475, curtosis : 7.6796 , entropy : -0.66682.\n",
    "\n",
    "3.\tInfer the probability for the data : with values \n",
    "> a.\t0 for all attributes with class 0  \n",
    "> b.\t1 for all the attributes with class 1\n"
   ]
  },
  {
   "cell_type": "code",
   "execution_count": 71,
   "metadata": {},
   "outputs": [],
   "source": [
    "from pomegranate import *"
   ]
  },
  {
   "cell_type": "code",
   "execution_count": 72,
   "metadata": {},
   "outputs": [],
   "source": [
    "import numpy as np\n",
    "import pandas as pd\n",
    "from pathlib import Path\n",
    "from sklearn import tree\n",
    "import matplotlib.pyplot as plt\n",
    "from sklearn.preprocessing import StandardScaler\n",
    "from sklearn.preprocessing import MinMaxScaler\n",
    "from sklearn.feature_selection import SelectKBest\n",
    "from sklearn.feature_selection import chi2"
   ]
  },
  {
   "cell_type": "code",
   "execution_count": 73,
   "metadata": {},
   "outputs": [],
   "source": [
    "import graphviz\n",
    "import pygraphviz\n",
    "import pydotplus\n",
    "import pandas as pd\n",
    "# import pydot\n",
    "from IPython.display import Image\n",
    "# from sklearn.externals.six import StringIO\n",
    "from six import StringIO"
   ]
  },
  {
   "cell_type": "code",
   "execution_count": 74,
   "metadata": {},
   "outputs": [],
   "source": [
    "working_dir = Path(r'./')"
   ]
  },
  {
   "cell_type": "markdown",
   "metadata": {},
   "source": [
    "### Load original data from Txt file"
   ]
  },
  {
   "cell_type": "code",
   "execution_count": 75,
   "metadata": {},
   "outputs": [],
   "source": [
    "data_original = np.loadtxt((working_dir.joinpath('data_banknote_authentication.txt')), \n",
    "                           dtype='float', delimiter=',', unpack=True)"
   ]
  },
  {
   "cell_type": "markdown",
   "metadata": {},
   "source": [
    "##### Loading data from csv"
   ]
  },
  {
   "cell_type": "code",
   "execution_count": 78,
   "metadata": {},
   "outputs": [],
   "source": [
    "data = pd.read_csv(working_dir.joinpath('banking.csv'))  # csv is attached with explaination document shared"
   ]
  },
  {
   "cell_type": "code",
   "execution_count": 79,
   "metadata": {
    "scrolled": true
   },
   "outputs": [
    {
     "data": {
      "text/html": [
       "<div>\n",
       "<style scoped>\n",
       "    .dataframe tbody tr th:only-of-type {\n",
       "        vertical-align: middle;\n",
       "    }\n",
       "\n",
       "    .dataframe tbody tr th {\n",
       "        vertical-align: top;\n",
       "    }\n",
       "\n",
       "    .dataframe thead th {\n",
       "        text-align: right;\n",
       "    }\n",
       "</style>\n",
       "<table border=\"1\" class=\"dataframe\">\n",
       "  <thead>\n",
       "    <tr style=\"text-align: right;\">\n",
       "      <th></th>\n",
       "      <th>Variance</th>\n",
       "      <th>Skew</th>\n",
       "      <th>Kurtosis</th>\n",
       "      <th>Entropy</th>\n",
       "      <th>Class</th>\n",
       "    </tr>\n",
       "  </thead>\n",
       "  <tbody>\n",
       "    <tr>\n",
       "      <th>0</th>\n",
       "      <td>3.62160</td>\n",
       "      <td>8.66610</td>\n",
       "      <td>-2.8073</td>\n",
       "      <td>-0.44699</td>\n",
       "      <td>0</td>\n",
       "    </tr>\n",
       "    <tr>\n",
       "      <th>1</th>\n",
       "      <td>4.54590</td>\n",
       "      <td>8.16740</td>\n",
       "      <td>-2.4586</td>\n",
       "      <td>-1.46210</td>\n",
       "      <td>0</td>\n",
       "    </tr>\n",
       "    <tr>\n",
       "      <th>2</th>\n",
       "      <td>3.86600</td>\n",
       "      <td>-2.63830</td>\n",
       "      <td>1.9242</td>\n",
       "      <td>0.10645</td>\n",
       "      <td>0</td>\n",
       "    </tr>\n",
       "    <tr>\n",
       "      <th>3</th>\n",
       "      <td>3.45660</td>\n",
       "      <td>9.52280</td>\n",
       "      <td>-4.0112</td>\n",
       "      <td>-3.59440</td>\n",
       "      <td>0</td>\n",
       "    </tr>\n",
       "    <tr>\n",
       "      <th>4</th>\n",
       "      <td>0.32924</td>\n",
       "      <td>-4.45520</td>\n",
       "      <td>4.5718</td>\n",
       "      <td>-0.98880</td>\n",
       "      <td>0</td>\n",
       "    </tr>\n",
       "    <tr>\n",
       "      <th>...</th>\n",
       "      <td>...</td>\n",
       "      <td>...</td>\n",
       "      <td>...</td>\n",
       "      <td>...</td>\n",
       "      <td>...</td>\n",
       "    </tr>\n",
       "    <tr>\n",
       "      <th>1367</th>\n",
       "      <td>0.40614</td>\n",
       "      <td>1.34920</td>\n",
       "      <td>-1.4501</td>\n",
       "      <td>-0.55949</td>\n",
       "      <td>1</td>\n",
       "    </tr>\n",
       "    <tr>\n",
       "      <th>1368</th>\n",
       "      <td>-1.38870</td>\n",
       "      <td>-4.87730</td>\n",
       "      <td>6.4774</td>\n",
       "      <td>0.34179</td>\n",
       "      <td>1</td>\n",
       "    </tr>\n",
       "    <tr>\n",
       "      <th>1369</th>\n",
       "      <td>-3.75030</td>\n",
       "      <td>-13.45860</td>\n",
       "      <td>17.5932</td>\n",
       "      <td>-2.77710</td>\n",
       "      <td>1</td>\n",
       "    </tr>\n",
       "    <tr>\n",
       "      <th>1370</th>\n",
       "      <td>-3.56370</td>\n",
       "      <td>-8.38270</td>\n",
       "      <td>12.3930</td>\n",
       "      <td>-1.28230</td>\n",
       "      <td>1</td>\n",
       "    </tr>\n",
       "    <tr>\n",
       "      <th>1371</th>\n",
       "      <td>-2.54190</td>\n",
       "      <td>-0.65804</td>\n",
       "      <td>2.6842</td>\n",
       "      <td>1.19520</td>\n",
       "      <td>1</td>\n",
       "    </tr>\n",
       "  </tbody>\n",
       "</table>\n",
       "<p>1372 rows × 5 columns</p>\n",
       "</div>"
      ],
      "text/plain": [
       "      Variance      Skew  Kurtosis  Entropy  Class\n",
       "0      3.62160   8.66610   -2.8073 -0.44699      0\n",
       "1      4.54590   8.16740   -2.4586 -1.46210      0\n",
       "2      3.86600  -2.63830    1.9242  0.10645      0\n",
       "3      3.45660   9.52280   -4.0112 -3.59440      0\n",
       "4      0.32924  -4.45520    4.5718 -0.98880      0\n",
       "...        ...       ...       ...      ...    ...\n",
       "1367   0.40614   1.34920   -1.4501 -0.55949      1\n",
       "1368  -1.38870  -4.87730    6.4774  0.34179      1\n",
       "1369  -3.75030 -13.45860   17.5932 -2.77710      1\n",
       "1370  -3.56370  -8.38270   12.3930 -1.28230      1\n",
       "1371  -2.54190  -0.65804    2.6842  1.19520      1\n",
       "\n",
       "[1372 rows x 5 columns]"
      ]
     },
     "execution_count": 79,
     "metadata": {},
     "output_type": "execute_result"
    }
   ],
   "source": [
    "data"
   ]
  },
  {
   "cell_type": "code",
   "execution_count": 80,
   "metadata": {},
   "outputs": [],
   "source": [
    "variance = data['Variance'].values\n",
    "skew = data['Skew'].values\n",
    "kurtosis = data['Kurtosis'].values\n",
    "entropy = data['Entropy'].values\n",
    "target = data['Class'].values"
   ]
  },
  {
   "cell_type": "code",
   "execution_count": 81,
   "metadata": {},
   "outputs": [
    {
     "data": {
      "text/plain": [
       "array([ 3.6216,  4.5459,  3.866 , ..., -3.7503, -3.5637, -2.5419])"
      ]
     },
     "execution_count": 81,
     "metadata": {},
     "output_type": "execute_result"
    }
   ],
   "source": [
    "variance"
   ]
  },
  {
   "cell_type": "code",
   "execution_count": 82,
   "metadata": {},
   "outputs": [],
   "source": [
    "X = np.array([variance, skew, kurtosis, entropy])\n",
    "X = X.transpose()"
   ]
  },
  {
   "cell_type": "code",
   "execution_count": 83,
   "metadata": {},
   "outputs": [],
   "source": [
    "scaler = MinMaxScaler() # StandardScaler\n",
    "X_scaled = scaler.fit_transform(X)"
   ]
  },
  {
   "cell_type": "markdown",
   "metadata": {},
   "source": [
    "#### Finding the correlation of the features present"
   ]
  },
  {
   "cell_type": "code",
   "execution_count": 84,
   "metadata": {},
   "outputs": [
    {
     "name": "stdout",
     "output_type": "stream",
     "text": [
      "      Specs      Score\n",
      "0  variance  56.152306\n",
      "1      skew  22.263644\n",
      "2  kurtosis   3.988757\n",
      "3   entropy   0.041042\n"
     ]
    }
   ],
   "source": [
    "bestfeatures = SelectKBest(score_func=chi2, k='all')\n",
    "fit = bestfeatures.fit(X_scaled,target)\n",
    "dfscores = pd.DataFrame(fit.scores_)\n",
    "dfcolumns = pd.DataFrame([\"variance\", \"skew\", \"kurtosis\", \"entropy\"])\n",
    "#concat two dataframes for better visualization \n",
    "featureScores = pd.concat([dfcolumns,dfscores],axis=1)\n",
    "featureScores.columns = ['Specs','Score']  # naming the dataframe columns\n",
    "print(featureScores.nlargest(6,'Score'))  # print best features"
   ]
  },
  {
   "cell_type": "markdown",
   "metadata": {},
   "source": [
    "#### Using Binning to convert the Continuous Variables into Discrete Variables "
   ]
  },
  {
   "cell_type": "code",
   "execution_count": 117,
   "metadata": {},
   "outputs": [],
   "source": [
    "    def datalabel(num, bins):\n",
    "        labels = ['A','B','C','D','E', 'F' ,'G']\n",
    "        label = None\n",
    "\n",
    "        for i in range(7):\n",
    "#             print(i,num)\n",
    "    #     if num in list(np.arange(bins0[i], bins0[i+1], 1)):\n",
    "            if num >= bins[i] and num < bins[i+1]+0.00000001:\n",
    "#                 print(bins[i], bins[i+1])\n",
    "                label = labels[i]\n",
    "\n",
    "            else:\n",
    "                continue\n",
    "        return label"
   ]
  },
  {
   "cell_type": "code",
   "execution_count": 86,
   "metadata": {},
   "outputs": [],
   "source": [
    "v_array = [] \n",
    "for value in variance:\n",
    "    v_array.append(datalabel(value, np.linspace(min(variance), max(variance), 8)))\n",
    "\n",
    "s_array = [] \n",
    "for value in skew:\n",
    "    s_array.append(datalabel(value, np.linspace(min(skew), max(skew), 8)))\n",
    "\n",
    "k_array = [] \n",
    "for value in kurtosis:\n",
    "    k_array.append(datalabel(value, np.linspace(min(kurtosis), max(kurtosis), 8)))\n",
    "    \n",
    "e_array = [] \n",
    "for value in entropy:\n",
    "    e_array.append(datalabel(value, np.linspace(min(entropy), max(entropy), 8)))"
   ]
  },
  {
   "cell_type": "code",
   "execution_count": 87,
   "metadata": {},
   "outputs": [
    {
     "data": {
      "text/plain": [
       "array([-7.0421    , -5.06111429, -3.08012857, -1.09914286,  0.88184286,\n",
       "        2.86282857,  4.84381429,  6.8248    ])"
      ]
     },
     "execution_count": 87,
     "metadata": {},
     "output_type": "execute_result"
    }
   ],
   "source": [
    "np.linspace(min(variance), max(variance), 8)"
   ]
  },
  {
   "cell_type": "code",
   "execution_count": 88,
   "metadata": {},
   "outputs": [],
   "source": [
    "a = np.array([v_array, s_array, k_array, e_array, target])"
   ]
  },
  {
   "cell_type": "code",
   "execution_count": 89,
   "metadata": {},
   "outputs": [
    {
     "data": {
      "text/plain": [
       "(5, 1372)"
      ]
     },
     "execution_count": 89,
     "metadata": {},
     "output_type": "execute_result"
    }
   ],
   "source": [
    "a.shape"
   ]
  },
  {
   "cell_type": "code",
   "execution_count": 90,
   "metadata": {},
   "outputs": [],
   "source": [
    "X = a.transpose()"
   ]
  },
  {
   "cell_type": "code",
   "execution_count": 91,
   "metadata": {},
   "outputs": [
    {
     "data": {
      "text/plain": [
       "(1372, 5)"
      ]
     },
     "execution_count": 91,
     "metadata": {},
     "output_type": "execute_result"
    }
   ],
   "source": [
    "X.shape"
   ]
  },
  {
   "cell_type": "markdown",
   "metadata": {},
   "source": [
    "#### Using Bayesian Network to create a network from sample"
   ]
  },
  {
   "cell_type": "code",
   "execution_count": 92,
   "metadata": {},
   "outputs": [],
   "source": [
    "model = BayesianNetwork.from_samples(X, algorithm='greedy', \n",
    "#                                      include_edges = [(0,4),(1,4)]\n",
    "                                    )"
   ]
  },
  {
   "cell_type": "code",
   "execution_count": null,
   "metadata": {},
   "outputs": [],
   "source": [
    "model.fit(X)"
   ]
  },
  {
   "cell_type": "code",
   "execution_count": 94,
   "metadata": {},
   "outputs": [
    {
     "data": {
      "image/png": "[encoded data removed]",
      "text/plain": [
       "<Figure size 432x288 with 1 Axes>"
      ]
     },
     "metadata": {
      "needs_background": "light"
     },
     "output_type": "display_data"
    }
   ],
   "source": [
    "model.plot()  # greedy plot"
   ]
  },
  {
   "cell_type": "code",
   "execution_count": 95,
   "metadata": {
    "scrolled": true
   },
   "outputs": [
    {
     "data": {
      "text/plain": [
       "(5, 5)"
      ]
     },
     "execution_count": 95,
     "metadata": {},
     "output_type": "execute_result"
    }
   ],
   "source": [
    "model.state_count(), model.node_count()"
   ]
  },
  {
   "cell_type": "code",
   "execution_count": 193,
   "metadata": {
    "scrolled": true
   },
   "outputs": [
    {
     "data": {
      "image/png": "[encoded data removed]",
      "text/plain": [
       "<Figure size 432x288 with 1 Axes>"
      ]
     },
     "metadata": {
      "needs_background": "light"
     },
     "output_type": "display_data"
    }
   ],
   "source": [
    "model.plot()  # exact plot"
   ]
  },
  {
   "cell_type": "code",
   "execution_count": 96,
   "metadata": {},
   "outputs": [],
   "source": [
    "def convert_labels(y_test_2):\n",
    "    t_test = [0 , 0 , 0 , 0 , None]\n",
    "    t_test[0] = datalabel(y_test_2[0], np.linspace(min(variance), max(variance), 8))\n",
    "    t_test[1] = datalabel(y_test_2[1], np.linspace(min(skew), max(skew), 8))\n",
    "    t_test[2] = datalabel(y_test_2[2], np.linspace(min(kurtosis), max(kurtosis), 8))\n",
    "    t_test[3] = datalabel(y_test_2[3], np.linspace(min(entropy), max(entropy), 8))\n",
    "    return t_test"
   ]
  },
  {
   "cell_type": "code",
   "execution_count": 97,
   "metadata": {},
   "outputs": [],
   "source": [
    "# Variance: 3.6216 , skewness: 8.6661, curtosis : -2.8073 , entropy : -0.44699, and the class is 0.\n",
    "test = [3.6216, 8.6661, -2.8073, -0.44699, None]"
   ]
  },
  {
   "cell_type": "code",
   "execution_count": 98,
   "metadata": {},
   "outputs": [],
   "source": [
    "t_test = convert_labels(test)"
   ]
  },
  {
   "cell_type": "code",
   "execution_count": 99,
   "metadata": {},
   "outputs": [],
   "source": [
    "y_test = np.reshape(t_test, (1, 5))"
   ]
  },
  {
   "cell_type": "code",
   "execution_count": 100,
   "metadata": {},
   "outputs": [
    {
     "data": {
      "text/plain": [
       "((1, 5), array([['F', 'F', 'A', 'F', None]], dtype=object))"
      ]
     },
     "execution_count": 100,
     "metadata": {},
     "output_type": "execute_result"
    }
   ],
   "source": [
    "y_test.shape, y_test"
   ]
  },
  {
   "cell_type": "code",
   "execution_count": 101,
   "metadata": {},
   "outputs": [
    {
     "name": "stdout",
     "output_type": "stream",
     "text": [
      "[array(['F', 'F', 'A', 'F', '0'], dtype=object)]\n"
     ]
    }
   ],
   "source": [
    "print(model.predict(y_test))"
   ]
  },
  {
   "cell_type": "code",
   "execution_count": 102,
   "metadata": {},
   "outputs": [
    {
     "name": "stdout",
     "output_type": "stream",
     "text": [
      "0.30324909747292417\n"
     ]
    }
   ],
   "source": [
    "print(model.probability(y_test))"
   ]
  },
  {
   "cell_type": "code",
   "execution_count": 103,
   "metadata": {},
   "outputs": [
    {
     "name": "stdout",
     "output_type": "stream",
     "text": [
      "[array(['F', 'F', 'A', 'F', {\n",
      "                               \"class\" : \"Distribution\",\n",
      "                               \"dtype\" : \"numpy.str_\",\n",
      "                               \"name\" : \"DiscreteDistribution\",\n",
      "                               \"parameters\" : [\n",
      "                                   {\n",
      "                                       \"1\" : 0.0,\n",
      "                                       \"0\" : 1.0\n",
      "                                   }\n",
      "                               ],\n",
      "                               \"frozen\" : false\n",
      "                           }                                   ],\n",
      "      dtype=object)]\n"
     ]
    }
   ],
   "source": [
    "print(model.predict_proba(y_test))"
   ]
  },
  {
   "cell_type": "code",
   "execution_count": 104,
   "metadata": {},
   "outputs": [],
   "source": [
    "# Variance: -1.8439 , skewness: -8.6475, curtosis : 7.6796 , entropy : -0.66682\n",
    "y_test_2 = [-1.8439, -8.6475, 7.6796, -0.66682, None]"
   ]
  },
  {
   "cell_type": "code",
   "execution_count": 105,
   "metadata": {},
   "outputs": [],
   "source": [
    "t_test = convert_labels(y_test_2)"
   ]
  },
  {
   "cell_type": "code",
   "execution_count": 108,
   "metadata": {},
   "outputs": [
    {
     "data": {
      "text/plain": [
       "((1, 5), array([['C', 'B', 'D', 'F', None]], dtype=object))"
      ]
     },
     "execution_count": 108,
     "metadata": {},
     "output_type": "execute_result"
    }
   ],
   "source": [
    "y_test_2 = np.reshape(t_test, (1, 5))\n",
    "y_test_2.shape, y_test_2"
   ]
  },
  {
   "cell_type": "code",
   "execution_count": 109,
   "metadata": {},
   "outputs": [
    {
     "name": "stdout",
     "output_type": "stream",
     "text": [
      "[array(['C', 'B', 'D', 'F', '1'], dtype=object)]\n"
     ]
    }
   ],
   "source": [
    "print(model.predict(y_test_2))"
   ]
  },
  {
   "cell_type": "code",
   "execution_count": 110,
   "metadata": {},
   "outputs": [
    {
     "name": "stdout",
     "output_type": "stream",
     "text": [
      "0.22666666666666666\n"
     ]
    }
   ],
   "source": [
    "print(model.probability(y_test_2))"
   ]
  },
  {
   "cell_type": "code",
   "execution_count": 118,
   "metadata": {},
   "outputs": [
    {
     "name": "stdout",
     "output_type": "stream",
     "text": [
      "[array(['C', 'B', 'D', 'F', {\n",
      "                               \"class\" : \"Distribution\",\n",
      "                               \"dtype\" : \"numpy.str_\",\n",
      "                               \"name\" : \"DiscreteDistribution\",\n",
      "                               \"parameters\" : [\n",
      "                                   {\n",
      "                                       \"1\" : 0.9932729935850734,\n",
      "                                       \"0\" : 0.006727006414926559\n",
      "                                   }\n",
      "                               ],\n",
      "                               \"frozen\" : false\n",
      "                           }                                     ],\n",
      "      dtype=object)]\n"
     ]
    }
   ],
   "source": [
    "print(model.predict_proba(y_test_2))"
   ]
  },
  {
   "cell_type": "code",
   "execution_count": 111,
   "metadata": {},
   "outputs": [],
   "source": [
    "test0 = [0., 0., 0., 0., 0]\n",
    "test1 = [1., 1., 1., 1., 1]"
   ]
  },
  {
   "cell_type": "code",
   "execution_count": 112,
   "metadata": {},
   "outputs": [],
   "source": [
    "t_test0 = convert_labels(test0)\n",
    "t_test1 = convert_labels(test1)"
   ]
  },
  {
   "cell_type": "code",
   "execution_count": 113,
   "metadata": {},
   "outputs": [
    {
     "data": {
      "text/plain": [
       "((1, 5), array([['D', 'D', 'B', 'F', None]], dtype=object))"
      ]
     },
     "execution_count": 113,
     "metadata": {},
     "output_type": "execute_result"
    }
   ],
   "source": [
    "y_test_0 = np.reshape(t_test0, (1, 5))\n",
    "y_test_0.shape, y_test_0"
   ]
  },
  {
   "cell_type": "code",
   "execution_count": 114,
   "metadata": {},
   "outputs": [
    {
     "data": {
      "text/plain": [
       "((1, 5), array([['E', 'D', 'B', 'G', None]], dtype=object))"
      ]
     },
     "execution_count": 114,
     "metadata": {},
     "output_type": "execute_result"
    }
   ],
   "source": [
    "y_test_1 = np.reshape(t_test1, (1, 5))\n",
    "y_test_1.shape, y_test_1"
   ]
  },
  {
   "cell_type": "code",
   "execution_count": 115,
   "metadata": {},
   "outputs": [
    {
     "name": "stdout",
     "output_type": "stream",
     "text": [
      "[array(['D', 'D', 'B', 'F', '1'], dtype=object)]\n",
      "0.4155844155844156\n"
     ]
    }
   ],
   "source": [
    "print(model.predict(y_test_0))\n",
    "print(model.probability(y_test_0))"
   ]
  },
  {
   "cell_type": "code",
   "execution_count": 119,
   "metadata": {},
   "outputs": [
    {
     "name": "stdout",
     "output_type": "stream",
     "text": [
      "[array(['D', 'D', 'B', 'F', {\n",
      "                               \"class\" : \"Distribution\",\n",
      "                               \"dtype\" : \"numpy.str_\",\n",
      "                               \"name\" : \"DiscreteDistribution\",\n",
      "                               \"parameters\" : [\n",
      "                                   {\n",
      "                                       \"1\" : 0.8569481500025946,\n",
      "                                       \"0\" : 0.14305184999740528\n",
      "                                   }\n",
      "                               ],\n",
      "                               \"frozen\" : false\n",
      "                           }                                    ],\n",
      "      dtype=object)]\n"
     ]
    }
   ],
   "source": [
    "print(model.predict_proba(y_test_0))"
   ]
  },
  {
   "cell_type": "code",
   "execution_count": 120,
   "metadata": {},
   "outputs": [
    {
     "name": "stdout",
     "output_type": "stream",
     "text": [
      "[array(['E', 'D', 'B', 'G', '0'], dtype=object)]\n",
      "0.3405797101449276\n"
     ]
    }
   ],
   "source": [
    "print(model.predict(y_test_1))\n",
    "print(model.probability(y_test_1))"
   ]
  },
  {
   "cell_type": "code",
   "execution_count": 121,
   "metadata": {},
   "outputs": [
    {
     "name": "stdout",
     "output_type": "stream",
     "text": [
      "[array(['E', 'D', 'B', 'G', {\n",
      "                               \"class\" : \"Distribution\",\n",
      "                               \"dtype\" : \"numpy.str_\",\n",
      "                               \"name\" : \"DiscreteDistribution\",\n",
      "                               \"parameters\" : [\n",
      "                                   {\n",
      "                                       \"1\" : 0.147773822754657,\n",
      "                                       \"0\" : 0.852226177245343\n",
      "                                   }\n",
      "                               ],\n",
      "                               \"frozen\" : false\n",
      "                           }                                   ],\n",
      "      dtype=object)]\n"
     ]
    }
   ],
   "source": [
    "print(model.predict_proba(y_test_1))"
   ]
  },
  {
   "cell_type": "markdown",
   "metadata": {},
   "source": [
    "### using Decision Tree Classifier"
   ]
  },
  {
   "cell_type": "code",
   "execution_count": 122,
   "metadata": {},
   "outputs": [],
   "source": [
    "X_data = np.loadtxt((working_dir.joinpath('data_banknote_authentication.txt')), \n",
    "                    dtype='float', delimiter=',', usecols=(0,1,2,3), unpack=True)\n",
    "Y_data = np.loadtxt((working_dir.joinpath('data_banknote_authentication.txt')), \n",
    "                    dtype='float', delimiter=',', usecols=(4), unpack=True)"
   ]
  },
  {
   "cell_type": "code",
   "execution_count": 123,
   "metadata": {
    "scrolled": true
   },
   "outputs": [],
   "source": [
    "X = X_data.transpose()"
   ]
  },
  {
   "cell_type": "code",
   "execution_count": 124,
   "metadata": {},
   "outputs": [
    {
     "data": {
      "text/plain": [
       "((1372, 4), (1372,))"
      ]
     },
     "execution_count": 124,
     "metadata": {},
     "output_type": "execute_result"
    }
   ],
   "source": [
    "X.shape, Y_data.shape"
   ]
  },
  {
   "cell_type": "code",
   "execution_count": 125,
   "metadata": {},
   "outputs": [],
   "source": [
    "clf = tree.DecisionTreeClassifier()\n",
    "clf = clf.fit(X, Y_data)"
   ]
  },
  {
   "cell_type": "code",
   "execution_count": 126,
   "metadata": {},
   "outputs": [
    {
     "data": {
      "text/plain": [
       "array([1.])"
      ]
     },
     "execution_count": 126,
     "metadata": {},
     "output_type": "execute_result"
    }
   ],
   "source": [
    "clf.predict([[1., 1., 1., 1.]])"
   ]
  },
  {
   "cell_type": "code",
   "execution_count": 127,
   "metadata": {},
   "outputs": [
    {
     "data": {
      "text/plain": [
       "array([1.])"
      ]
     },
     "execution_count": 127,
     "metadata": {},
     "output_type": "execute_result"
    }
   ],
   "source": [
    "clf.predict([[0., 0., 0., 0.]])"
   ]
  },
  {
   "cell_type": "code",
   "execution_count": 128,
   "metadata": {},
   "outputs": [
    {
     "data": {
      "text/plain": [
       "array([1.])"
      ]
     },
     "execution_count": 128,
     "metadata": {},
     "output_type": "execute_result"
    }
   ],
   "source": [
    "clf.predict([[-1.8439, -8.6475, 7.6796, -0.66682]])"
   ]
  },
  {
   "cell_type": "code",
   "execution_count": 129,
   "metadata": {},
   "outputs": [
    {
     "data": {
      "text/plain": [
       "array([0.])"
      ]
     },
     "execution_count": 129,
     "metadata": {},
     "output_type": "execute_result"
    }
   ],
   "source": [
    "clf.predict([[3.6216, 8.6661, -2.8073, -0.44699]])"
   ]
  },
  {
   "cell_type": "markdown",
   "metadata": {},
   "source": [
    "### plotting the decision tree"
   ]
  },
  {
   "cell_type": "code",
   "execution_count": 130,
   "metadata": {},
   "outputs": [
    {
     "data": {
      "image/png": "[encoded data removed]",
      "text/plain": [
       "<Figure size 2160x1440 with 1 Axes>"
      ]
     },
     "metadata": {
      "needs_background": "light"
     },
     "output_type": "display_data"
    }
   ],
   "source": [
    "plt.figure(figsize=(30,20))  # set plot size (denoted in inches)\n",
    "tree.plot_tree(clf, fontsize=10)\n",
    "plt.savefig('tree.png')\n",
    "plt.show()"
   ]
  },
  {
   "cell_type": "code",
   "execution_count": 131,
   "metadata": {
    "scrolled": true
   },
   "outputs": [
    {
     "data": {
      "text/plain": [
       "<pydotplus.graphviz.Dot at 0x7fd46a4de210>"
      ]
     },
     "metadata": {},
     "output_type": "display_data"
    },
    {
     "data": {
      "text/plain": [
       "True"
      ]
     },
     "execution_count": 131,
     "metadata": {},
     "output_type": "execute_result"
    }
   ],
   "source": [
    "dot_data = StringIO()\n",
    "tree.export_graphviz(clf, out_file=dot_data, \n",
    "                    feature_names=['Variance','Skewness','Curtosis','Entropy'],  \n",
    "                    class_names=['Genuine', 'Fake'],  \n",
    "                    filled=True, rounded=True,  \n",
    "                    special_characters=True)  \n",
    "graph = pydotplus.graph_from_dot_data(dot_data.getvalue())\n",
    "display(graph)\n",
    "Image(graph.create_png()) \n",
    "graph.write_pdf(\"detect.pdf\")\n",
    "graph.write_png(\"iris.png\")"
   ]
  },
  {
   "cell_type": "code",
   "execution_count": 1,
   "metadata": {},
   "outputs": [
    {
     "ename": "NameError",
     "evalue": "name 'clf' is not defined",
     "output_type": "error",
     "traceback": [
      "\u001b[1;31m---------------------------------------------------------------------------\u001b[0m",
      "\u001b[1;31mNameError\u001b[0m                                 Traceback (most recent call last)",
      "\u001b[1;32m<ipython-input-1-229255af40d4>\u001b[0m in \u001b[0;36m<module>\u001b[1;34m\u001b[0m\n\u001b[0;32m      1\u001b[0m \u001b[1;32mfrom\u001b[0m \u001b[0msklearn\u001b[0m\u001b[1;33m.\u001b[0m\u001b[0mtree\u001b[0m \u001b[1;32mimport\u001b[0m \u001b[0mexport_text\u001b[0m\u001b[1;33m\u001b[0m\u001b[1;33m\u001b[0m\u001b[0m\n\u001b[0;32m      2\u001b[0m \u001b[1;33m\u001b[0m\u001b[0m\n\u001b[1;32m----> 3\u001b[1;33m \u001b[0mtree_rules\u001b[0m \u001b[1;33m=\u001b[0m \u001b[0mexport_text\u001b[0m\u001b[1;33m(\u001b[0m\u001b[0mclf\u001b[0m\u001b[1;33m,\u001b[0m \u001b[0mfeature_names\u001b[0m\u001b[1;33m=\u001b[0m\u001b[1;33m[\u001b[0m\u001b[1;34m'Variance'\u001b[0m\u001b[1;33m,\u001b[0m\u001b[1;34m'Skewness'\u001b[0m\u001b[1;33m,\u001b[0m\u001b[1;34m'Curtosis'\u001b[0m\u001b[1;33m,\u001b[0m\u001b[1;34m'Entropy'\u001b[0m\u001b[1;33m]\u001b[0m\u001b[1;33m)\u001b[0m\u001b[1;33m\u001b[0m\u001b[1;33m\u001b[0m\u001b[0m\n\u001b[0m",
      "\u001b[1;31mNameError\u001b[0m: name 'clf' is not defined"
     ]
    }
   ],
   "source": [
    "from sklearn.tree import export_text\n",
    "\n",
    "tree_rules = export_text(clf, feature_names=['Variance','Skewness','Curtosis','Entropy'])"
   ]
  },
  {
   "cell_type": "markdown",
   "metadata": {},
   "source": [
    "### Decision tree rules"
   ]
  },
  {
   "cell_type": "code",
   "execution_count": 133,
   "metadata": {},
   "outputs": [
    {
     "name": "stdout",
     "output_type": "stream",
     "text": [
      "|--- Variance <= 0.32\n",
      "|   |--- Skewness <= 7.57\n",
      "|   |   |--- Variance <= -0.40\n",
      "|   |   |   |--- Curtosis <= 6.22\n",
      "|   |   |   |   |--- Skewness <= 7.29\n",
      "|   |   |   |   |   |--- class: 1.0\n",
      "|   |   |   |   |--- Skewness >  7.29\n",
      "|   |   |   |   |   |--- Curtosis <= 0.25\n",
      "|   |   |   |   |   |   |--- class: 1.0\n",
      "|   |   |   |   |   |--- Curtosis >  0.25\n",
      "|   |   |   |   |   |   |--- class: 0.0\n",
      "|   |   |   |--- Curtosis >  6.22\n",
      "|   |   |   |   |--- Skewness <= -4.67\n",
      "|   |   |   |   |   |--- class: 1.0\n",
      "|   |   |   |   |--- Skewness >  -4.67\n",
      "|   |   |   |   |   |--- Skewness <= -2.96\n",
      "|   |   |   |   |   |   |--- Entropy <= -1.38\n",
      "|   |   |   |   |   |   |   |--- class: 0.0\n",
      "|   |   |   |   |   |   |--- Entropy >  -1.38\n",
      "|   |   |   |   |   |   |   |--- class: 1.0\n",
      "|   |   |   |   |   |--- Skewness >  -2.96\n",
      "|   |   |   |   |   |   |--- class: 0.0\n",
      "|   |   |--- Variance >  -0.40\n",
      "|   |   |   |--- Skewness <= 5.45\n",
      "|   |   |   |   |--- Curtosis <= 2.62\n",
      "|   |   |   |   |   |--- class: 1.0\n",
      "|   |   |   |   |--- Curtosis >  2.62\n",
      "|   |   |   |   |   |--- Entropy <= 1.23\n",
      "|   |   |   |   |   |   |--- class: 0.0\n",
      "|   |   |   |   |   |--- Entropy >  1.23\n",
      "|   |   |   |   |   |   |--- class: 1.0\n",
      "|   |   |   |--- Skewness >  5.45\n",
      "|   |   |   |   |--- class: 0.0\n",
      "|   |--- Skewness >  7.57\n",
      "|   |   |--- Variance <= -4.73\n",
      "|   |   |   |--- class: 1.0\n",
      "|   |   |--- Variance >  -4.73\n",
      "|   |   |   |--- class: 0.0\n",
      "|--- Variance >  0.32\n",
      "|   |--- Curtosis <= -4.39\n",
      "|   |   |--- Skewness <= 7.19\n",
      "|   |   |   |--- class: 1.0\n",
      "|   |   |--- Skewness >  7.19\n",
      "|   |   |   |--- class: 0.0\n",
      "|   |--- Curtosis >  -4.39\n",
      "|   |   |--- Variance <= 1.59\n",
      "|   |   |   |--- Curtosis <= -2.27\n",
      "|   |   |   |   |--- Skewness <= 5.67\n",
      "|   |   |   |   |   |--- class: 1.0\n",
      "|   |   |   |   |--- Skewness >  5.67\n",
      "|   |   |   |   |   |--- class: 0.0\n",
      "|   |   |   |--- Curtosis >  -2.27\n",
      "|   |   |   |   |--- Entropy <= 0.08\n",
      "|   |   |   |   |   |--- Variance <= 0.42\n",
      "|   |   |   |   |   |   |--- Curtosis <= -1.32\n",
      "|   |   |   |   |   |   |   |--- class: 1.0\n",
      "|   |   |   |   |   |   |--- Curtosis >  -1.32\n",
      "|   |   |   |   |   |   |   |--- class: 0.0\n",
      "|   |   |   |   |   |--- Variance >  0.42\n",
      "|   |   |   |   |   |   |--- class: 0.0\n",
      "|   |   |   |   |--- Entropy >  0.08\n",
      "|   |   |   |   |   |--- Curtosis <= 1.85\n",
      "|   |   |   |   |   |   |--- Skewness <= 3.56\n",
      "|   |   |   |   |   |   |   |--- class: 1.0\n",
      "|   |   |   |   |   |   |--- Skewness >  3.56\n",
      "|   |   |   |   |   |   |   |--- class: 0.0\n",
      "|   |   |   |   |   |--- Curtosis >  1.85\n",
      "|   |   |   |   |   |   |--- class: 0.0\n",
      "|   |   |--- Variance >  1.59\n",
      "|   |   |   |--- Variance <= 2.04\n",
      "|   |   |   |   |--- Curtosis <= -2.65\n",
      "|   |   |   |   |   |--- Skewness <= 6.47\n",
      "|   |   |   |   |   |   |--- class: 1.0\n",
      "|   |   |   |   |   |--- Skewness >  6.47\n",
      "|   |   |   |   |   |   |--- class: 0.0\n",
      "|   |   |   |   |--- Curtosis >  -2.65\n",
      "|   |   |   |   |   |--- class: 0.0\n",
      "|   |   |   |--- Variance >  2.04\n",
      "|   |   |   |   |--- class: 0.0\n",
      "\n"
     ]
    }
   ],
   "source": [
    "print(tree_rules)"
   ]
  }
 ],
 "metadata": {
  "kernelspec": {
   "display_name": "Python 3",
   "language": "python",
   "name": "python3"
  },
  "language_info": {
   "codemirror_mode": {
    "name": "ipython",
    "version": 3
   },
   "file_extension": ".py",
   "mimetype": "text/x-python",
   "name": "python",
   "nbconvert_exporter": "python",
   "pygments_lexer": "ipython3",
   "version": "3.7.10"
  }
 },
 "nbformat": 4,
 "nbformat_minor": 2
}

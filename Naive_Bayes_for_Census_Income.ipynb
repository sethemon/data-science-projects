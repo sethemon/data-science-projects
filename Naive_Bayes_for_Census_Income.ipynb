{
 "cells": [
  {
   "cell_type": "markdown",
   "metadata": {},
   "source": [
    "## ML - Naive Bayes classifier for Census Income \n",
    "\n",
    "\n",
    "Considering the Census Income data with response variable as **Income(>50k and <=50k)**.\n",
    "\n",
    "Import the csv dataset from https://www.kaggle.com/uciml/adult-census-income\n",
    "\n",
    "\n",
    "1. Identify the presence of missing values, fill the missing values with mean for numerical attributes and mode value for categorical attributes. \n",
    "2. Extract X as all columns except the Income column and Y as Income column. \n",
    "3. Split the data into training set and testing set. \n",
    "4. Model the classifier using GaussianNB, BernoulliNB and MultinomialNB \n",
    "5. Compute the accuracy and confusion matrix for each models. \n",
    "6. Plot the decision boundary, visualize training and test results of all the models \n",
    "7. Create an output .csv file consisting actual Test set values of Y (column name: Actual) and Predictions of Y(column name: Predicted). "
   ]
  },
  {
   "cell_type": "code",
   "execution_count": 1,
   "metadata": {},
   "outputs": [],
   "source": [
    "import pandas as pd\n",
    "import numpy as np \n",
    "import matplotlib.pyplot as plt\n",
    "import seaborn as sns\n",
    "from datetime import datetime\n",
    "from scipy import stats\n",
    "sns.set()\n",
    "\n",
    "# Plotly libraries\n",
    "import plotly\n",
    "import plotly.express as px\n",
    "import plotly.graph_objs as go\n",
    "import chart_studio.plotly as py\n",
    "import os\n",
    "import cufflinks as cf\n",
    "from plotly.offline import iplot, init_notebook_mode, plot"
   ]
  },
  {
   "cell_type": "code",
   "execution_count": 2,
   "metadata": {},
   "outputs": [],
   "source": [
    "from sklearn.preprocessing import LabelEncoder, OneHotEncoder\n",
    "#from kmodes.kmodes import KModes\n",
    "#from sklearn.cluster import KMeans\n",
    "from sklearn.preprocessing import StandardScaler\n",
    "from sklearn.preprocessing import MinMaxScaler\n",
    "from sklearn.feature_selection import SelectKBest\n",
    "from sklearn.feature_selection import chi2\n",
    "from sklearn.decomposition import PCA\n",
    "from sklearn.model_selection import GridSearchCV\n",
    "from sklearn.pipeline import make_pipeline\n",
    "from sklearn.pipeline import Pipeline\n",
    "from sklearn.linear_model import LogisticRegression\n",
    "from sklearn.ensemble import RandomForestClassifier\n",
    "from sklearn.model_selection import train_test_split\n",
    "from sklearn.metrics import confusion_matrix\n",
    "from sklearn.metrics import plot_confusion_matrix\n",
    "from sklearn.metrics import classification_report\n",
    "from sklearn.metrics import accuracy_score\n",
    "\n",
    "import warnings\n",
    "warnings.filterwarnings('ignore')"
   ]
  },
  {
   "cell_type": "markdown",
   "metadata": {},
   "source": [
    "###### Reading the dataset"
   ]
  },
  {
   "cell_type": "code",
   "execution_count": null,
   "metadata": {
    "scrolled": false
   },
   "outputs": [],
   "source": [
    "salary_data = pd.read_csv('adult.csv')\n",
    "salary_data.head()"
   ]
  },
  {
   "cell_type": "markdown",
   "metadata": {},
   "source": [
    "###### Extracting the Columns present in the dataset"
   ]
  },
  {
   "cell_type": "code",
   "execution_count": 4,
   "metadata": {
    "scrolled": true
   },
   "outputs": [
    {
     "data": {
      "text/plain": [
       "Index(['Age', 'Workclass', 'Fnlwgt', 'Education', 'Education.Num',\n",
       "       'Marital.Status', 'Occupation', 'Relationship', 'Race', 'Sex',\n",
       "       'Capital.Gain', 'Capital.Loss', 'Hours.Per.Week', 'Native.Country',\n",
       "       'Income'],\n",
       "      dtype='object')"
      ]
     },
     "execution_count": 4,
     "metadata": {},
     "output_type": "execute_result"
    }
   ],
   "source": [
    "salary_data.columns = salary_data.columns.str.title()\n",
    "salary_data.columns"
   ]
  },
  {
   "cell_type": "markdown",
   "metadata": {},
   "source": [
    "###### Descriptive Statistics on the given dataset"
   ]
  },
  {
   "cell_type": "code",
   "execution_count": null,
   "metadata": {
    "scrolled": true
   },
   "outputs": [],
   "source": [
    "salary_data[['Age', 'Workclass', 'Fnlwgt', 'Education', 'Education.Num',\n",
    "       'Marital.Status', 'Occupation', 'Relationship', 'Race', 'Sex',\n",
    "       'Capital.Gain', 'Capital.Loss', 'Hours.Per.Week', 'Native.Country',\n",
    "       'Income']].describe().transpose()"
   ]
  },
  {
   "cell_type": "markdown",
   "metadata": {},
   "source": [
    "###### Data type of the columns present"
   ]
  },
  {
   "cell_type": "code",
   "execution_count": null,
   "metadata": {},
   "outputs": [],
   "source": [
    "salary_data.info()"
   ]
  },
  {
   "cell_type": "markdown",
   "metadata": {},
   "source": [
    "###### Unique values of the column \"Native.Country\""
   ]
  },
  {
   "cell_type": "code",
   "execution_count": 7,
   "metadata": {},
   "outputs": [
    {
     "data": {
      "text/plain": [
       "array(['United-States', '?', 'Mexico', 'Greece', 'Vietnam', 'China',\n",
       "       'Taiwan', 'India', 'Philippines', 'Trinadad&Tobago', 'Canada',\n",
       "       'South', 'Holand-Netherlands', 'Puerto-Rico', 'Poland', 'Iran',\n",
       "       'England', 'Germany', 'Italy', 'Japan', 'Hong', 'Honduras', 'Cuba',\n",
       "       'Ireland', 'Cambodia', 'Peru', 'Nicaragua', 'Dominican-Republic',\n",
       "       'Haiti', 'El-Salvador', 'Hungary', 'Columbia', 'Guatemala',\n",
       "       'Jamaica', 'Ecuador', 'France', 'Yugoslavia', 'Scotland',\n",
       "       'Portugal', 'Laos', 'Thailand', 'Outlying-US(Guam-USVI-etc)'],\n",
       "      dtype=object)"
      ]
     },
     "execution_count": 7,
     "metadata": {},
     "output_type": "execute_result"
    }
   ],
   "source": [
    "salary_data['Native.Country'].unique()"
   ]
  },
  {
   "cell_type": "markdown",
   "metadata": {},
   "source": [
    "###### Replacing the Undefined values(?) with NaN"
   ]
  },
  {
   "cell_type": "code",
   "execution_count": null,
   "metadata": {},
   "outputs": [],
   "source": [
    "salary_data.replace({'Workclass': {'?': np.nan}}, regex=False,inplace=True)\n",
    "salary_data.replace({'Occupation': {'?': np.nan}}, regex=False,inplace=True)\n",
    "salary_data.replace({'Native.Country': {'?': np.nan}}, regex=False,inplace=True)\n",
    "salary_data.head()"
   ]
  },
  {
   "cell_type": "markdown",
   "metadata": {},
   "source": [
    "###### Filling the NaN values of column \"Age\" and \"Fnlwgt\" with mean"
   ]
  },
  {
   "cell_type": "code",
   "execution_count": 9,
   "metadata": {},
   "outputs": [],
   "source": [
    "salary_data['Age'].fillna(salary_data['Age'].mean(), inplace=True)\n",
    "salary_data['Fnlwgt'].fillna(salary_data['Fnlwgt'].mean(), inplace=True)"
   ]
  },
  {
   "cell_type": "markdown",
   "metadata": {},
   "source": [
    "###### Filling the NaN values of \"Workclass\", \"Occupation\" and \"Native.Country\" with the mode"
   ]
  },
  {
   "cell_type": "code",
   "execution_count": 10,
   "metadata": {},
   "outputs": [],
   "source": [
    "salary_data['Workclass'].fillna(salary_data['Workclass'].mode()[0], inplace=True)\n",
    "salary_data['Occupation'].fillna(salary_data['Occupation'].mode()[0], inplace=True)\n",
    "salary_data['Native.Country'].fillna(salary_data['Native.Country'].mode()[0], inplace=True)"
   ]
  },
  {
   "cell_type": "markdown",
   "metadata": {},
   "source": [
    "###### Checking for any Null values for all columns"
   ]
  },
  {
   "cell_type": "code",
   "execution_count": null,
   "metadata": {},
   "outputs": [],
   "source": [
    "salary_data.isna().sum()"
   ]
  },
  {
   "cell_type": "markdown",
   "metadata": {},
   "source": [
    "###### Converting the integer data types into floating point variables"
   ]
  },
  {
   "cell_type": "code",
   "execution_count": 12,
   "metadata": {},
   "outputs": [
    {
     "data": {
      "text/plain": [
       "Index(['Age', 'Fnlwgt', 'Education.Num', 'Capital.Gain', 'Capital.Loss',\n",
       "       'Hours.Per.Week'],\n",
       "      dtype='object')"
      ]
     },
     "execution_count": 12,
     "metadata": {},
     "output_type": "execute_result"
    }
   ],
   "source": [
    "salary_data_float = salary_data.select_dtypes(include = [np.number])\n",
    "salary_data_float.columns"
   ]
  },
  {
   "cell_type": "markdown",
   "metadata": {},
   "source": [
    "###### Showing the box plots of all the features present"
   ]
  },
  {
   "cell_type": "code",
   "execution_count": 13,
   "metadata": {},
   "outputs": [
    {
     "data": {
      "image/png": "[encoded data removed]",
      "text/plain": [
       "<Figure size 648x648 with 6 Axes>"
      ]
     },
     "metadata": {},
     "output_type": "display_data"
    }
   ],
   "source": [
    "fig, axes = plt.subplots(nrows = 2, ncols = 3, figsize = (9, 9))\n",
    "\n",
    "salary_data.boxplot(column = \"Age\", ax = axes[0, 0]);\n",
    "salary_data.boxplot(column = \"Fnlwgt\", ax = axes[0, 1]);\n",
    "salary_data.boxplot(column = \"Education.Num\", ax = axes[0, 2]);\n",
    "salary_data.boxplot(column = \"Capital.Gain\", ax = axes[1, 0]);\n",
    "salary_data.boxplot(column = \"Capital.Loss\", ax = axes[1, 1]);\n",
    "salary_data.boxplot(column = \"Hours.Per.Week\", ax = axes[1, 2]);"
   ]
  },
  {
   "cell_type": "markdown",
   "metadata": {},
   "source": [
    "###### Calculating the Z-Score of the floating point columns"
   ]
  },
  {
   "cell_type": "code",
   "execution_count": 14,
   "metadata": {},
   "outputs": [],
   "source": [
    "z_score = np.abs(stats.zscore(salary_data_float))\n",
    "salary_data = salary_data[(z_score < 3).all(axis = 1)]"
   ]
  },
  {
   "cell_type": "code",
   "execution_count": null,
   "metadata": {},
   "outputs": [],
   "source": [
    "salary_data.reset_index(inplace = True)\n",
    "salary_data.drop(\"index\", axis = 1, inplace = True)\n",
    "salary_data.head()"
   ]
  },
  {
   "cell_type": "markdown",
   "metadata": {},
   "source": [
    "###### Converting all the object type columns in their lower case as part of Data Preprocessing"
   ]
  },
  {
   "cell_type": "code",
   "execution_count": null,
   "metadata": {},
   "outputs": [],
   "source": [
    "for column in salary_data.columns:\n",
    "    if salary_data[column].dtype == \"object\":\n",
    "        salary_data[column] = salary_data[column].str.lower()\n",
    "        \n",
    "salary_data.head()"
   ]
  },
  {
   "cell_type": "markdown",
   "metadata": {},
   "source": [
    "###### Descriptive Statistics of the floating point Columns"
   ]
  },
  {
   "cell_type": "code",
   "execution_count": null,
   "metadata": {},
   "outputs": [],
   "source": [
    "salary_data.describe()"
   ]
  },
  {
   "cell_type": "code",
   "execution_count": 18,
   "metadata": {},
   "outputs": [
    {
     "data": {
      "text/plain": [
       "Index(['Workclass', 'Education', 'Marital.Status', 'Occupation',\n",
       "       'Relationship', 'Race', 'Sex', 'Native.Country', 'Income'],\n",
       "      dtype='object')"
      ]
     },
     "execution_count": 18,
     "metadata": {},
     "output_type": "execute_result"
    }
   ],
   "source": [
    "salary_data.select_dtypes(exclude = [np.number]).columns"
   ]
  },
  {
   "cell_type": "markdown",
   "metadata": {},
   "source": [
    "###### Checking to see the count of the Column \"Workclass\""
   ]
  },
  {
   "cell_type": "code",
   "execution_count": null,
   "metadata": {
    "scrolled": false
   },
   "outputs": [],
   "source": [
    "colors = [\"purple\", \"blue\", \"green\", \"orange\", \"yellow\", \"red\"]\n",
    "salary_data[\"Workclass\"].value_counts().plot.bar(color = colors, legend = True)\n",
    "plt.legend()"
   ]
  },
  {
   "cell_type": "markdown",
   "metadata": {},
   "source": [
    "###### Checking to see the count of the Column \"Education\""
   ]
  },
  {
   "cell_type": "code",
   "execution_count": null,
   "metadata": {
    "scrolled": false
   },
   "outputs": [],
   "source": [
    "colors = [\"purple\", \"blue\", \"green\", \"orange\", \"pink\", \"red\"]\n",
    "salary_data[\"Education\"].value_counts().plot.bar(color = colors, legend = True)\n",
    "plt.legend()"
   ]
  },
  {
   "cell_type": "markdown",
   "metadata": {},
   "source": [
    "###### Checking to see the count of the Column \"Marital.Status\""
   ]
  },
  {
   "cell_type": "code",
   "execution_count": null,
   "metadata": {
    "scrolled": false
   },
   "outputs": [],
   "source": [
    "colors = [\"purple\", \"blue\", \"green\", \"orange\", \"pink\", \"red\"]\n",
    "salary_data[\"Marital.Status\"].value_counts().plot.bar(color = colors, legend = True)\n",
    "plt.legend()"
   ]
  },
  {
   "cell_type": "markdown",
   "metadata": {},
   "source": [
    "###### Checking to see the values of Column \"Occupation\""
   ]
  },
  {
   "cell_type": "code",
   "execution_count": null,
   "metadata": {
    "scrolled": false
   },
   "outputs": [],
   "source": [
    "colors = [\"purple\", \"blue\", \"green\", \"orange\", \"pink\", \"red\"]\n",
    "salary_data[\"Occupation\"].value_counts().plot.bar(color = colors, legend = True)\n",
    "plt.legend()"
   ]
  },
  {
   "cell_type": "markdown",
   "metadata": {},
   "source": [
    "###### Checking to see the values of column \"Race\""
   ]
  },
  {
   "cell_type": "code",
   "execution_count": null,
   "metadata": {
    "scrolled": false
   },
   "outputs": [],
   "source": [
    "colors = [\"red\", \"green\", \"blue\", \"orange\", \"yellow\", \"purple\"]\n",
    "salary_data[\"Race\"].value_counts().plot.bar(color = colors, legend = True)\n",
    "plt.legend()"
   ]
  },
  {
   "cell_type": "markdown",
   "metadata": {},
   "source": [
    "###### Checking to see the values of Column \"Sex\""
   ]
  },
  {
   "cell_type": "code",
   "execution_count": null,
   "metadata": {
    "scrolled": true
   },
   "outputs": [],
   "source": [
    "colors = [\"cyan\", \"pink\"]\n",
    "salary_data[\"Sex\"].value_counts().plot.bar(color = colors, legend = True)\n",
    "plt.legend()"
   ]
  },
  {
   "cell_type": "markdown",
   "metadata": {},
   "source": [
    "###### Checking to see the values of Column Relationship"
   ]
  },
  {
   "cell_type": "code",
   "execution_count": null,
   "metadata": {
    "scrolled": false
   },
   "outputs": [],
   "source": [
    "colors = [\"pink\", \"green\", \"blue\", \"orange\", \"yellow\", \"purple\"]\n",
    "salary_data[\"Relationship\"].value_counts().plot.bar(color = colors, legend = True);\n",
    "plt.legend();"
   ]
  },
  {
   "cell_type": "markdown",
   "metadata": {},
   "source": [
    "###### Checking to see the target variable distribution"
   ]
  },
  {
   "cell_type": "code",
   "execution_count": null,
   "metadata": {
    "scrolled": false
   },
   "outputs": [],
   "source": [
    "colors = [\"pink\", \"green\"]\n",
    "salary_data[\"Income\"].value_counts().plot.bar(color = colors, legend = True);\n",
    "plt.legend();"
   ]
  },
  {
   "cell_type": "markdown",
   "metadata": {},
   "source": [
    "###### We see that <=50k has a greter distribution than >50k households"
   ]
  },
  {
   "cell_type": "markdown",
   "metadata": {},
   "source": [
    "###### Calculating the percentages of the \"Income\""
   ]
  },
  {
   "cell_type": "code",
   "execution_count": 27,
   "metadata": {},
   "outputs": [
    {
     "data": {
      "text/plain": [
       "<=50k    77.692101\n",
       ">50k     22.307899\n",
       "Name: Income, dtype: float64"
      ]
     },
     "execution_count": 27,
     "metadata": {},
     "output_type": "execute_result"
    }
   ],
   "source": [
    "salary_data[\"Income\"].value_counts() * 100 / len(salary_data)"
   ]
  },
  {
   "cell_type": "markdown",
   "metadata": {},
   "source": [
    "##### Calculate the mean of years for each profession and count"
   ]
  },
  {
   "cell_type": "code",
   "execution_count": null,
   "metadata": {},
   "outputs": [],
   "source": [
    "mean_age = salary_data.groupby(\"Workclass\")[\"Age\"].agg([\"count\", \"mean\"])\n",
    "mean_age"
   ]
  },
  {
   "cell_type": "markdown",
   "metadata": {},
   "source": [
    "###### Percentages of the Mean Ages across differnt Workclass"
   ]
  },
  {
   "cell_type": "code",
   "execution_count": 29,
   "metadata": {},
   "outputs": [
    {
     "data": {
      "text/plain": [
       "Workclass\n",
       "federal-gov          2.967011\n",
       "local-gov            6.420142\n",
       "never-worked         0.023468\n",
       "private             75.898485\n",
       "self-emp-inc         3.144696\n",
       "self-emp-not-inc     7.419203\n",
       "state-gov            4.080059\n",
       "without-pay          0.046936\n",
       "Name: count, dtype: float64"
      ]
     },
     "execution_count": 29,
     "metadata": {},
     "output_type": "execute_result"
    }
   ],
   "source": [
    "mean_age[\"count\"] * 100 / mean_age[\"count\"].sum()"
   ]
  },
  {
   "cell_type": "markdown",
   "metadata": {},
   "source": [
    "###### Mean Age Distribution of Workclass"
   ]
  },
  {
   "cell_type": "code",
   "execution_count": null,
   "metadata": {},
   "outputs": [],
   "source": [
    "colors = [\"pink\", \"green\", \"blue\", \"orange\", \"yellow\", \"purple\"]\n",
    "mean_age[\"mean\"].plot.bar(color = colors);"
   ]
  },
  {
   "cell_type": "markdown",
   "metadata": {},
   "source": [
    "As we can see from our data, the average age for private is 36 years. At the same time, the average age for those who have never worked is 20-21, which is not surprising - since students usually start working from the age of 22. We can also see that 14 people (0.04%) do not receive a salary."
   ]
  },
  {
   "cell_type": "markdown",
   "metadata": {},
   "source": [
    "###### Eduction and Sex Group by Feature"
   ]
  },
  {
   "cell_type": "code",
   "execution_count": null,
   "metadata": {},
   "outputs": [],
   "source": [
    "education_sex = salary_data.groupby([\"Education\", \"Sex\"])[\"Sex\"].count()\n",
    "education_sex"
   ]
  },
  {
   "cell_type": "markdown",
   "metadata": {},
   "source": [
    "###### Percentage Distribution of Education and Sex"
   ]
  },
  {
   "cell_type": "code",
   "execution_count": null,
   "metadata": {},
   "outputs": [],
   "source": [
    "education_sex * 100 / education_sex.sum()"
   ]
  },
  {
   "cell_type": "markdown",
   "metadata": {},
   "source": [
    "###### Plotting the Distribution Education and Sex feature in a horizontal bar graph"
   ]
  },
  {
   "cell_type": "code",
   "execution_count": null,
   "metadata": {},
   "outputs": [],
   "source": [
    "plt.figure(figsize=(20, 15))\n",
    "education_sex.plot.barh(color = colors)\n",
    "plt.title(\"Count\")"
   ]
  },
  {
   "cell_type": "markdown",
   "metadata": {},
   "source": [
    "###### Education-Sex group by with Age"
   ]
  },
  {
   "cell_type": "code",
   "execution_count": null,
   "metadata": {
    "scrolled": false
   },
   "outputs": [],
   "source": [
    "salary_data.groupby([\"Education\", \"Sex\"])[\"Age\"].mean()"
   ]
  },
  {
   "cell_type": "markdown",
   "metadata": {},
   "source": [
    "###### Plotting the Distribution of Education-Sex with Age Group by"
   ]
  },
  {
   "cell_type": "code",
   "execution_count": null,
   "metadata": {},
   "outputs": [],
   "source": [
    "plt.figure(figsize=(20, 15))\n",
    "salary_data.groupby([\"Education\", \"Sex\"])[\"Age\"].mean().plot.barh(color = colors)\n",
    "plt.title(\"Mean age\")"
   ]
  },
  {
   "cell_type": "markdown",
   "metadata": {},
   "source": [
    "###### Let's see how the profitability is interrelated depending on the:\n",
    "\n",
    "1.Sex\n",
    "\n",
    "2.Race\n",
    "\n",
    "3.Relationship\n",
    "\n",
    "###### We will use next statistical methods:\n",
    "\n",
    "1.Chisquare test\n",
    "\n",
    "2.Fisher's exact test\n",
    "\n",
    "3.Conjugacy coefficients (Phi, Association, Pearson, Cramer, Chuprov)"
   ]
  },
  {
   "cell_type": "code",
   "execution_count": 36,
   "metadata": {},
   "outputs": [],
   "source": [
    "def contingency2x2_coefficients(data, return_coefficients = False):\n",
    "    \n",
    "    if isinstance(data, pd.core.frame.DataFrame):\n",
    "        data = data.to_numpy()\n",
    "        \n",
    "    K_a = (data[0, 0] * data[1, 1] - data[0, 1] * data[1, 0]) / (data[0, 0] * data[1, 1] + data[0, 1] * data[1, 0])\n",
    "    K_k = (data[0, 0] * data[1, 1] - data[0, 1] * data[1, 0]) / ((data[0, 0] + data[0, 1]) * (data[0, 1] + data[1, 1]) * (data[0, 0] + data[1, 0]) * (data[1, 0] + data[1, 1])) ** (0.5)\n",
    "    \n",
    "    print(\"The coefficient of association: \", K_a)\n",
    "    print(\"The coefficient of contingency: \", K_k)\n",
    "    \n",
    "    if (K_a >= 0.5) or (K_k >= 0.3):\n",
    "        print(\"The relationship is quite strong between the two features\")\n",
    "    else:\n",
    "        print(\"The relationship is weak between the two features\")\n",
    "        \n",
    "    if return_coefficients:\n",
    "        return (K_a, K_k)"
   ]
  },
  {
   "cell_type": "code",
   "execution_count": 37,
   "metadata": {},
   "outputs": [],
   "source": [
    "def plot_chi2_test(data, yets_correction = True, return_statistics = False, only_coefficients = False, fisher_test = True):\n",
    "    \n",
    "    if isinstance(data, pd.core.frame.DataFrame):\n",
    "        data = data.to_numpy()\n",
    "    \n",
    "    chi2, p, dof, ex = stats.chi2_contingency(data, correction = yets_correction)\n",
    "    margins_sum = stats.contingency.margins(data)\n",
    "    summed = margins_sum[0].sum()\n",
    "    \n",
    "    if not only_coefficients:\n",
    "        chi2_critical = stats.chi2.ppf(0.95, df = (data.shape[0] - 1) * (data.shape[1] - 1))\n",
    "        \n",
    "        chi2_arange = np.arange(0, chi2_critical + 2, 0.01)\n",
    "        chi2_vals = stats.chi2.pdf(chi2_arange, df = (data.shape[0] - 1) * (data.shape[1] - 1))\n",
    "        \n",
    "        plt.plot(chi2_arange, chi2_vals, label = \"Chisquare distribution\", color = \"k\")\n",
    "        plt.axvline(chi2, color = \"b\", label = \"Chisquare-statistical\")\n",
    "        plt.axvline(chi2_critical, color = \"r\", label = \"Chisquare-critical\", linestyle = \"dashed\")\n",
    "        plt.ylim(0, chi2_vals[1:].max())\n",
    "        \n",
    "        plt.fill_between(np.arange(chi2, chi2_critical + 2, 0.01), stats.chi2.pdf(np.arange(chi2, chi2_critical + 2, 0.01), df = (data.shape[0] - 1) * (data.shape[1] - 1)), color = \"dodgerblue\")\n",
    "        \n",
    "        if p <= 0.05:\n",
    "            print(\"The features are interrelated. P-value: {}\".format(p))\n",
    "        else:\n",
    "            print(\"The features are not interrelated. P-value: {}\".format(p))\n",
    "            \n",
    "        if ((data.shape[0] == 2) and (data.shape[1] == 2)) and fisher_test:\n",
    "            oddsratio, p_fisher = stats.fisher_exact(data)\n",
    "            \n",
    "            print(\"Fisher's test p-value: \", p_fisher)\n",
    "            \n",
    "        print(\"Chisquare statistics: \", chi2)\n",
    "        print(\"Chisquare critical \", chi2_critical)\n",
    "        print(\"-\"*10)\n",
    "    \n",
    "    Pirson_coefficient = (chi2  / (chi2 + summed)) ** (0.5)\n",
    "    Chuprov_coefficient = (chi2 / (summed * ((data.shape[0] - 1) * (data.shape[1] - 1)) ** (0.5)))\n",
    "    \n",
    "    if (data.shape[0] == 2) and (data.shape[1] == 2):\n",
    "        phi_coefficient = (chi2 / summed) ** (0.5)\n",
    "        print(\"Phi coefficient: \", phi_coefficient)\n",
    "    else:\n",
    "        Cramer_coefficient = ((chi2 / summed) / (np.min([data.shape[0] - 1, data.shape[1] - 1]))) ** (0.5)\n",
    "        print(\"Cramer's coefficient: \", Cramer_coefficient)\n",
    "    \n",
    "\n",
    "    \n",
    "    print(\"Pearson's coefficient: \", Pirson_coefficient)\n",
    "    print(\"Chuprov's coefficient: \", Chuprov_coefficient)"
   ]
  },
  {
   "cell_type": "code",
   "execution_count": 38,
   "metadata": {},
   "outputs": [
    {
     "data": {
      "text/html": [
       "<div>\n",
       "<style scoped>\n",
       "    .dataframe tbody tr th:only-of-type {\n",
       "        vertical-align: middle;\n",
       "    }\n",
       "\n",
       "    .dataframe tbody tr th {\n",
       "        vertical-align: top;\n",
       "    }\n",
       "\n",
       "    .dataframe thead th {\n",
       "        text-align: right;\n",
       "    }\n",
       "</style>\n",
       "<table border=\"1\" class=\"dataframe\">\n",
       "  <thead>\n",
       "    <tr style=\"text-align: right;\">\n",
       "      <th>Income</th>\n",
       "      <th>&lt;=50k</th>\n",
       "      <th>&gt;50k</th>\n",
       "    </tr>\n",
       "    <tr>\n",
       "      <th>Sex</th>\n",
       "      <th></th>\n",
       "      <th></th>\n",
       "    </tr>\n",
       "  </thead>\n",
       "  <tbody>\n",
       "    <tr>\n",
       "      <th>female</th>\n",
       "      <td>9091</td>\n",
       "      <td>1022</td>\n",
       "    </tr>\n",
       "    <tr>\n",
       "      <th>male</th>\n",
       "      <td>14083</td>\n",
       "      <td>5632</td>\n",
       "    </tr>\n",
       "  </tbody>\n",
       "</table>\n",
       "</div>"
      ],
      "text/plain": [
       "Income  <=50k  >50k\n",
       "Sex                \n",
       "female   9091  1022\n",
       "male    14083  5632"
      ]
     },
     "execution_count": 38,
     "metadata": {},
     "output_type": "execute_result"
    }
   ],
   "source": [
    "sex_income = pd.crosstab(index = salary_data[\"Sex\"], columns = salary_data[\"Income\"])\n",
    "sex_income"
   ]
  },
  {
   "cell_type": "code",
   "execution_count": 39,
   "metadata": {},
   "outputs": [
    {
     "name": "stdout",
     "output_type": "stream",
     "text": [
      "The coefficient of association:  0.5611497618858793\n",
      "The coefficient of contingency:  0.209922128616096\n",
      "The relationship is quite strong between the two features\n"
     ]
    }
   ],
   "source": [
    "contingency2x2_coefficients(sex_income)"
   ]
  },
  {
   "cell_type": "markdown",
   "metadata": {},
   "source": [
    "We can see the strong relationship between Sex and Income"
   ]
  },
  {
   "cell_type": "code",
   "execution_count": 40,
   "metadata": {},
   "outputs": [
    {
     "name": "stdout",
     "output_type": "stream",
     "text": [
      "The features are interrelated. P-value: 8.22896194288344e-288\n",
      "Fisher's test p-value:  6.69574e-318\n",
      "Chisquare statistics:  1314.4394268671558\n",
      "Chisquare critical  3.841458820694124\n",
      "----------\n",
      "Phi coefficient:  0.209922128616096\n",
      "Pearson's coefficient:  0.20544424233891723\n",
      "Chuprov's coefficient:  0.04406730008271275\n"
     ]
    },
    {
     "data": {
      "image/png": "[encoded data removed]",
      "text/plain": [
       "<Figure size 432x288 with 1 Axes>"
      ]
     },
     "metadata": {},
     "output_type": "display_data"
    }
   ],
   "source": [
    "plot_chi2_test(sex_income, yets_correction = False)"
   ]
  },
  {
   "cell_type": "markdown",
   "metadata": {},
   "source": [
    "The relationship between gender and salary is very high. \n",
    "Let's look at the race column:"
   ]
  },
  {
   "cell_type": "code",
   "execution_count": 41,
   "metadata": {},
   "outputs": [
    {
     "data": {
      "text/html": [
       "<div>\n",
       "<style scoped>\n",
       "    .dataframe tbody tr th:only-of-type {\n",
       "        vertical-align: middle;\n",
       "    }\n",
       "\n",
       "    .dataframe tbody tr th {\n",
       "        vertical-align: top;\n",
       "    }\n",
       "\n",
       "    .dataframe thead th {\n",
       "        text-align: right;\n",
       "    }\n",
       "</style>\n",
       "<table border=\"1\" class=\"dataframe\">\n",
       "  <thead>\n",
       "    <tr style=\"text-align: right;\">\n",
       "      <th>Income</th>\n",
       "      <th>&lt;=50k</th>\n",
       "      <th>&gt;50k</th>\n",
       "    </tr>\n",
       "    <tr>\n",
       "      <th>Race</th>\n",
       "      <th></th>\n",
       "      <th></th>\n",
       "    </tr>\n",
       "  </thead>\n",
       "  <tbody>\n",
       "    <tr>\n",
       "      <th>amer-indian-eskimo</th>\n",
       "      <td>263</td>\n",
       "      <td>32</td>\n",
       "    </tr>\n",
       "    <tr>\n",
       "      <th>asian-pac-islander</th>\n",
       "      <td>712</td>\n",
       "      <td>230</td>\n",
       "    </tr>\n",
       "    <tr>\n",
       "      <th>black</th>\n",
       "      <td>2555</td>\n",
       "      <td>316</td>\n",
       "    </tr>\n",
       "    <tr>\n",
       "      <th>other</th>\n",
       "      <td>225</td>\n",
       "      <td>22</td>\n",
       "    </tr>\n",
       "    <tr>\n",
       "      <th>white</th>\n",
       "      <td>19419</td>\n",
       "      <td>6054</td>\n",
       "    </tr>\n",
       "  </tbody>\n",
       "</table>\n",
       "</div>"
      ],
      "text/plain": [
       "Income              <=50k  >50k\n",
       "Race                           \n",
       "amer-indian-eskimo    263    32\n",
       "asian-pac-islander    712   230\n",
       "black                2555   316\n",
       "other                 225    22\n",
       "white               19419  6054"
      ]
     },
     "execution_count": 41,
     "metadata": {},
     "output_type": "execute_result"
    }
   ],
   "source": [
    "race_income = pd.crosstab(index = salary_data[\"Race\"], columns = salary_data[\"Income\"])\n",
    "race_income"
   ]
  },
  {
   "cell_type": "code",
   "execution_count": 42,
   "metadata": {},
   "outputs": [
    {
     "name": "stdout",
     "output_type": "stream",
     "text": [
      "The features are interrelated. P-value: 3.1775138046990016e-62\n",
      "Chisquare statistics:  293.1973472457482\n",
      "Chisquare critical  9.487729036781154\n",
      "----------\n",
      "Cramer's coefficient:  0.099144345723368\n",
      "Pearson's coefficient:  0.09866063414132854\n",
      "Chuprov's coefficient:  0.0049148006444573586\n"
     ]
    },
    {
     "data": {
      "image/png": "[encoded data removed]",
      "text/plain": [
       "<Figure size 432x288 with 1 Axes>"
      ]
     },
     "metadata": {},
     "output_type": "display_data"
    }
   ],
   "source": [
    "plot_chi2_test(race_income)"
   ]
  },
  {
   "cell_type": "code",
   "execution_count": 43,
   "metadata": {},
   "outputs": [
    {
     "data": {
      "text/html": [
       "<div>\n",
       "<style scoped>\n",
       "    .dataframe tbody tr th:only-of-type {\n",
       "        vertical-align: middle;\n",
       "    }\n",
       "\n",
       "    .dataframe tbody tr th {\n",
       "        vertical-align: top;\n",
       "    }\n",
       "\n",
       "    .dataframe thead th {\n",
       "        text-align: right;\n",
       "    }\n",
       "</style>\n",
       "<table border=\"1\" class=\"dataframe\">\n",
       "  <thead>\n",
       "    <tr style=\"text-align: right;\">\n",
       "      <th>Income</th>\n",
       "      <th>&lt;=50k</th>\n",
       "      <th>&gt;50k</th>\n",
       "    </tr>\n",
       "    <tr>\n",
       "      <th>Relationship</th>\n",
       "      <th></th>\n",
       "      <th></th>\n",
       "    </tr>\n",
       "  </thead>\n",
       "  <tbody>\n",
       "    <tr>\n",
       "      <th>husband</th>\n",
       "      <td>6739</td>\n",
       "      <td>5022</td>\n",
       "    </tr>\n",
       "    <tr>\n",
       "      <th>not-in-family</th>\n",
       "      <td>6925</td>\n",
       "      <td>711</td>\n",
       "    </tr>\n",
       "    <tr>\n",
       "      <th>other-relative</th>\n",
       "      <td>883</td>\n",
       "      <td>30</td>\n",
       "    </tr>\n",
       "    <tr>\n",
       "      <th>own-child</th>\n",
       "      <td>4768</td>\n",
       "      <td>58</td>\n",
       "    </tr>\n",
       "    <tr>\n",
       "      <th>unmarried</th>\n",
       "      <td>3090</td>\n",
       "      <td>181</td>\n",
       "    </tr>\n",
       "    <tr>\n",
       "      <th>wife</th>\n",
       "      <td>769</td>\n",
       "      <td>652</td>\n",
       "    </tr>\n",
       "  </tbody>\n",
       "</table>\n",
       "</div>"
      ],
      "text/plain": [
       "Income          <=50k  >50k\n",
       "Relationship               \n",
       "husband          6739  5022\n",
       "not-in-family    6925   711\n",
       "other-relative    883    30\n",
       "own-child        4768    58\n",
       "unmarried        3090   181\n",
       "wife              769   652"
      ]
     },
     "execution_count": 43,
     "metadata": {},
     "output_type": "execute_result"
    }
   ],
   "source": [
    "relationship_income = pd.crosstab(index = salary_data[\"Relationship\"], columns = salary_data[\"Income\"])\n",
    "relationship_income"
   ]
  },
  {
   "cell_type": "code",
   "execution_count": 44,
   "metadata": {},
   "outputs": [
    {
     "name": "stdout",
     "output_type": "stream",
     "text": [
      "The features are interrelated. P-value: 0.0\n",
      "Chisquare statistics:  5983.957656123724\n",
      "Chisquare critical  11.070497693516351\n",
      "----------\n",
      "Cramer's coefficient:  0.4479011614780545\n",
      "Pearson's coefficient:  0.4087711385680971\n",
      "Chuprov's coefficient:  0.0897179569101043\n"
     ]
    },
    {
     "data": {
      "image/png": "[encoded data removed]",
      "text/plain": [
       "<Figure size 432x288 with 1 Axes>"
      ]
     },
     "metadata": {},
     "output_type": "display_data"
    }
   ],
   "source": [
    "plot_chi2_test(relationship_income)"
   ]
  },
  {
   "cell_type": "markdown",
   "metadata": {},
   "source": [
    "And here we can observe a strong relationship. It turns out that the profitability of a person depends on his gender, race and relationship."
   ]
  },
  {
   "cell_type": "markdown",
   "metadata": {},
   "source": [
    "Let's see if the profitability depends on the age. To do this, we will use the Student's t-criterion.\n",
    "We also use Label Encoder for the Income Column"
   ]
  },
  {
   "cell_type": "code",
   "execution_count": 45,
   "metadata": {},
   "outputs": [],
   "source": [
    "labels = {\"<=50k\": 0, \">50k\": 1}\n",
    "decode_labels = {0: \"<=50k\", 1: \">50k\"}\n",
    "\n",
    "salary_data.replace(labels, inplace=True)"
   ]
  },
  {
   "cell_type": "code",
   "execution_count": 46,
   "metadata": {},
   "outputs": [],
   "source": [
    "income_greater50 = salary_data[\"Age\"][salary_data[\"Income\"] ==  0]\n",
    "income_lesseq50 = salary_data[\"Age\"][salary_data[\"Income\"] == 1]"
   ]
  },
  {
   "cell_type": "code",
   "execution_count": 47,
   "metadata": {},
   "outputs": [
    {
     "data": {
      "text/plain": [
       "(23174, 6654)"
      ]
     },
     "execution_count": 47,
     "metadata": {},
     "output_type": "execute_result"
    }
   ],
   "source": [
    "len(income_greater50), len(income_lesseq50)"
   ]
  },
  {
   "cell_type": "markdown",
   "metadata": {},
   "source": [
    "###### We can apply the Student's criterion if:\n",
    "\n",
    "The values being compared do not constitute a pair of correlating values\n",
    "The distribution of features in each sample corresponds to the normal distribution\n",
    "The variances of the feature in the samples are approximately equal"
   ]
  },
  {
   "cell_type": "code",
   "execution_count": 48,
   "metadata": {},
   "outputs": [
    {
     "name": "stdout",
     "output_type": "stream",
     "text": [
      "The variances are not equal. P-value: 1.2101724570979645e-132\n"
     ]
    }
   ],
   "source": [
    "statistics, p_value = stats.levene(income_greater50, income_lesseq50)\n",
    "\n",
    "if p_value < 0.05:\n",
    "    print(\"The variances are not equal. P-value: {}\".format(p_value))\n",
    "else:\n",
    "    print(\"The variances are equal. P-value: {}\".format(p_value))"
   ]
  },
  {
   "cell_type": "code",
   "execution_count": 49,
   "metadata": {},
   "outputs": [],
   "source": [
    "def plot_histogram_and_qq(data, column_name = \"Hisogram\", distribution_type=\"norm\", normal_tests = True):\n",
    "    \n",
    "    mu = np.mean(data)\n",
    "    sigma = np.std(data)\n",
    "    \n",
    "    # Plot histogram of the 1000 points\n",
    "    plt.figure(figsize=(12,6))\n",
    "    ax = plt.subplot(1,2,1)\n",
    "    count, bins, ignored = plt.hist(data, 30, density=True)\n",
    "    ax.set_title(column_name)\n",
    "    ax.set_xlabel('Values')\n",
    "    ax.set_ylabel('Freq')\n",
    "\n",
    "    # Overlay the bell curve (normal distribution) on the bins data\n",
    "    bell_curve = 1 / (sigma * np.sqrt(2 * np.pi)) * np.exp( - (bins - mu)**2 / (2 * sigma**2))\n",
    "    plt.plot(bins, bell_curve, linewidth=2, color='r')\n",
    "\n",
    "    # Q-Q plot\n",
    "    plt.subplot(1,2,2)\n",
    "    res = stats.probplot(data, dist=distribution_type, plot=plt)\n",
    "    # (osm, osr) = res[0]\n",
    "    # (slope, intercept, r) = res[1]\n",
    "    # For details see: https://docs.scipy.org/doc/scipy-0.14.0/reference/generated/scipy.stats.probplot.html\n",
    "    # print(\"slope, intercept, r:\", slope, intercept, r)\n",
    "    # print(\"r is the square root of the coefficient of determination\")\n",
    "\n",
    "    plt.show()\n",
    "    \n",
    "    print(\"-\"*50)\n",
    "    print(\"Min/Max: \", [np.min(data), np.max(data)])\n",
    "    print(\"The three sigma rule: \", [mu - 3 * sigma, mu + 3 * sigma])\n",
    "    print(\"Mean/Mode/Median: \", [np.mean(data), stats.mode(data), np.median(data)])\n",
    "    print(\"Skewness/Kurtosis: \", [stats.skew(data), stats.kurtosis(data)])\n",
    "    \n",
    "    if normal_tests and distribution_type == \"norm\":\n",
    "        print(\"-\"*50)\n",
    "        \n",
    "        statistics, p = stats.normaltest(data)\n",
    "        \n",
    "        if p < 0.05:\n",
    "            print(\"D'Agostino test: the sample is not taken from a normal distribution! P-value: {}\".format(p))\n",
    "        else:\n",
    "            print(\"D'Agostino test: the sample is taken from a normal distribution. P-value: {}\".format(p))\n",
    "            \n",
    "        if data.shape[0] > 2000:\n",
    "            statistics, p = stats.jarque_bera(data)\n",
    "            \n",
    "            if p < 0.05:\n",
    "                print(\"Jarque-Bera test: the sample is not taken from a normal distribution! P-value: {}\".format(p))\n",
    "            else:\n",
    "                print(\"Jarque-Bera test: the sample is taken from a normal distribution. P-value: {}\".format(p))\n",
    "        else:\n",
    "            statistics, p = stats.shapiro(data)\n",
    "            \n",
    "            if p < 0.05:\n",
    "                 print(\"Shapiro test: the sample is not taken from a normal distribution! P-value: {}\".format(p))\n",
    "            else:\n",
    "                print(\"Shapiro test: the sample is taken from a normal distribution. P-value: {}\".format(p))"
   ]
  },
  {
   "cell_type": "code",
   "execution_count": 50,
   "metadata": {},
   "outputs": [
    {
     "data": {
      "image/png": "[encoded data removed]",
      "text/plain": [
       "<Figure size 864x432 with 2 Axes>"
      ]
     },
     "metadata": {},
     "output_type": "display_data"
    },
    {
     "name": "stdout",
     "output_type": "stream",
     "text": [
      "--------------------------------------------------\n",
      "Min/Max:  [17, 79]\n",
      "The three sigma rule:  [-4.476598818175219, 77.33756369260345]\n",
      "Mean/Mode/Median:  [36.43048243721412, ModeResult(mode=array([23], dtype=int64), count=array([825])), 34.0]\n",
      "Skewness/Kurtosis:  [0.686558744968736, -0.2684932398933011]\n",
      "--------------------------------------------------\n",
      "D'Agostino test: the sample is not taken from a normal distribution! P-value: 0.0\n",
      "Jarque-Bera test: the sample is not taken from a normal distribution! P-value: 0.0\n"
     ]
    },
    {
     "data": {
      "image/png": "[encoded data removed]",
      "text/plain": [
       "<Figure size 864x432 with 2 Axes>"
      ]
     },
     "metadata": {},
     "output_type": "display_data"
    },
    {
     "name": "stdout",
     "output_type": "stream",
     "text": [
      "--------------------------------------------------\n",
      "Min/Max:  [19, 79]\n",
      "The three sigma rule:  [13.163989745365676, 75.05723057323968]\n",
      "Mean/Mode/Median:  [44.110610159302674, ModeResult(mode=array([47], dtype=int64), count=array([249])), 44.0]\n",
      "Skewness/Kurtosis:  [0.37593426232435756, -0.23013931969906398]\n",
      "--------------------------------------------------\n",
      "D'Agostino test: the sample is not taken from a normal distribution! P-value: 1.0831897221527115e-36\n",
      "Jarque-Bera test: the sample is not taken from a normal distribution! P-value: 0.0\n"
     ]
    }
   ],
   "source": [
    "plot_histogram_and_qq(income_greater50)\n",
    "plot_histogram_and_qq(income_lesseq50)"
   ]
  },
  {
   "cell_type": "markdown",
   "metadata": {},
   "source": [
    "The variances are not equal and the samples are not taken from a normal distribution. We can't use the Student's criterion. We can try to use a nonparametric analog for one-factor analysis of variance - the Kruskell Wallis H-test:"
   ]
  },
  {
   "cell_type": "code",
   "execution_count": 51,
   "metadata": {},
   "outputs": [
    {
     "data": {
      "text/plain": [
       "KruskalResult(statistic=2217.6615682639413, pvalue=0.0)"
      ]
     },
     "execution_count": 51,
     "metadata": {},
     "output_type": "execute_result"
    }
   ],
   "source": [
    "stats.kruskal(income_greater50, income_lesseq50)"
   ]
  },
  {
   "cell_type": "markdown",
   "metadata": {},
   "source": [
    "The criterion tells us that the median ages for each of the groups are not equal, so we can conclude that the profitability depends on the age."
   ]
  },
  {
   "cell_type": "markdown",
   "metadata": {},
   "source": [
    "### Feature Engineering"
   ]
  },
  {
   "cell_type": "code",
   "execution_count": 52,
   "metadata": {},
   "outputs": [
    {
     "name": "stdout",
     "output_type": "stream",
     "text": [
      "Index(['Workclass', 'Education', 'Marital.Status', 'Occupation',\n",
      "       'Relationship', 'Race', 'Sex', 'Native.Country'],\n",
      "      dtype='object')\n"
     ]
    }
   ],
   "source": [
    "categorical_cols = salary_data.select_dtypes(exclude = [np.number]).columns\n",
    "print(categorical_cols)"
   ]
  },
  {
   "cell_type": "markdown",
   "metadata": {},
   "source": [
    "###### Using One hot Encoder for Transoformation of Categorical Variables"
   ]
  },
  {
   "cell_type": "code",
   "execution_count": null,
   "metadata": {},
   "outputs": [],
   "source": [
    "onehotencoder = OneHotEncoder()\n",
    "encoding_data = pd.DataFrame(onehotencoder.fit_transform(salary_data[categorical_cols]).toarray(), \n",
    "                             columns = onehotencoder.get_feature_names(categorical_cols))\n",
    "encoding_data"
   ]
  },
  {
   "cell_type": "code",
   "execution_count": 54,
   "metadata": {},
   "outputs": [],
   "source": [
    "salary_data_float = salary_data.select_dtypes(include = [np.number])"
   ]
  },
  {
   "cell_type": "markdown",
   "metadata": {},
   "source": [
    "###### Feature ranking with recursive feature elimination and cross-validated selection of the best number of features."
   ]
  },
  {
   "cell_type": "code",
   "execution_count": 55,
   "metadata": {},
   "outputs": [],
   "source": [
    "from sklearn.feature_selection import RFECV"
   ]
  },
  {
   "cell_type": "code",
   "execution_count": 56,
   "metadata": {},
   "outputs": [
    {
     "name": "stdout",
     "output_type": "stream",
     "text": [
      "Optimal number of features:  6\n",
      "Number of all features:  6\n"
     ]
    }
   ],
   "source": [
    "X = salary_data_float.iloc[:, :-1].copy()\n",
    "y = salary_data_float[\"Income\"].copy()\n",
    "\n",
    "scaler = StandardScaler()\n",
    "x = scaler.fit_transform(X)\n",
    "\n",
    "min_features = 3\n",
    "estimator = LogisticRegression()\n",
    "rfecv = RFECV(estimator = estimator, step = 1, cv = 5,\n",
    "             scoring = \"roc_auc\", min_features_to_select = min_features)\n",
    "\n",
    "rfecv.fit(x, y)\n",
    "print(\"Optimal number of features: \", rfecv.n_features_)\n",
    "print(\"Number of all features: \", x.shape[1])"
   ]
  },
  {
   "cell_type": "code",
   "execution_count": 57,
   "metadata": {},
   "outputs": [
    {
     "data": {
      "image/png": "[encoded data removed]",
      "text/plain": [
       "<Figure size 432x288 with 1 Axes>"
      ]
     },
     "metadata": {},
     "output_type": "display_data"
    }
   ],
   "source": [
    "plt.xlabel(\"Number of features selected\")\n",
    "plt.ylabel(\"Cross validation score (nb of correct classifications)\")\n",
    "plt.plot(range(min_features,\n",
    "               len(rfecv.grid_scores_) + min_features),\n",
    "         rfecv.grid_scores_);"
   ]
  },
  {
   "cell_type": "code",
   "execution_count": 58,
   "metadata": {},
   "outputs": [
    {
     "name": "stdout",
     "output_type": "stream",
     "text": [
      "Column: 0, Selected True, Rank: 1\n",
      "Column: 1, Selected True, Rank: 1\n",
      "Column: 2, Selected True, Rank: 1\n",
      "Column: 3, Selected True, Rank: 1\n",
      "Column: 4, Selected True, Rank: 1\n",
      "Column: 5, Selected True, Rank: 1\n"
     ]
    }
   ],
   "source": [
    "for i in range(X.shape[1]):\n",
    "    print(f'Column: {i}, Selected {rfecv.support_[i]}, Rank: {rfecv.ranking_[i]}')"
   ]
  },
  {
   "cell_type": "code",
   "execution_count": 59,
   "metadata": {},
   "outputs": [
    {
     "data": {
      "text/plain": [
       "Index(['Age', 'Fnlwgt', 'Education.Num', 'Capital.Gain', 'Capital.Loss',\n",
       "       'Hours.Per.Week'],\n",
       "      dtype='object')"
      ]
     },
     "execution_count": 59,
     "metadata": {},
     "output_type": "execute_result"
    }
   ],
   "source": [
    "salary_data_float.iloc[:, :-1].columns"
   ]
  },
  {
   "cell_type": "code",
   "execution_count": 60,
   "metadata": {},
   "outputs": [],
   "source": [
    "X = salary_data_float.iloc[:, :-1].copy()\n",
    "X = pd.concat([encoding_data, X], axis = 1)"
   ]
  },
  {
   "cell_type": "code",
   "execution_count": null,
   "metadata": {
    "scrolled": true
   },
   "outputs": [],
   "source": [
    "print(X.shape)\n",
    "X.head()"
   ]
  },
  {
   "cell_type": "code",
   "execution_count": 62,
   "metadata": {},
   "outputs": [],
   "source": [
    "# X = scaler.fit_transform(X)\n",
    "y = salary_data[\"Income\"].copy()"
   ]
  },
  {
   "cell_type": "code",
   "execution_count": 63,
   "metadata": {},
   "outputs": [
    {
     "data": {
      "text/plain": [
       "[0, 1]"
      ]
     },
     "execution_count": 63,
     "metadata": {},
     "output_type": "execute_result"
    }
   ],
   "source": [
    "list(y.unique())"
   ]
  },
  {
   "cell_type": "markdown",
   "metadata": {},
   "source": [
    "### Training and selection best mode"
   ]
  },
  {
   "cell_type": "code",
   "execution_count": 64,
   "metadata": {},
   "outputs": [],
   "source": [
    "X_train, X_test, y_train, y_test = train_test_split(X, y, test_size=0.3, shuffle=True, random_state=0)"
   ]
  },
  {
   "cell_type": "code",
   "execution_count": 65,
   "metadata": {},
   "outputs": [],
   "source": [
    "from sklearn.naive_bayes import MultinomialNB, BernoulliNB, GaussianNB"
   ]
  },
  {
   "cell_type": "markdown",
   "metadata": {},
   "source": [
    "### Building a Pipeline to fit our model along with K-Fold cross validation of 10 folds"
   ]
  },
  {
   "cell_type": "markdown",
   "metadata": {},
   "source": [
    "#### GridSearchCV lets us combine an estimator with a grid search preamble to tune hyper-parameters. The method picks the optimal parameter from the grid search and uses it with the estimator selected by the user. GridSearchCV inherits the methods from the classifier, so we can use the score, predict, etc., methods directly through the GridSearchCV interface. This technique is used to find the optimal parameters to use with an algorithm. "
   ]
  },
  {
   "cell_type": "markdown",
   "metadata": {},
   "source": [
    "### MultinomialNB"
   ]
  },
  {
   "cell_type": "code",
   "execution_count": null,
   "metadata": {
    "scrolled": true
   },
   "outputs": [],
   "source": [
    "# Create first pipeline for base without reducing features.\n",
    "pipe = Pipeline([('scaler', MinMaxScaler()),   #   MinMaxScaler StandardScaler\n",
    "                 ('classifier' , MultinomialNB())])\n",
    "\n",
    "# Create param grid.\n",
    "param_grid = [\n",
    "    {'classifier' : [MultinomialNB()],\n",
    "     'classifier__alpha' : np.logspace(-4, 3, 10)   \n",
    "    }\n",
    "]\n",
    "\n",
    "print(f\"# Tuning hyper-parameters \")\n",
    "mnb_clf = GridSearchCV(pipe, param_grid = param_grid, cv=10, verbose=1, refit=True, n_jobs=-1, scoring='accuracy')\n",
    "mnb_clf.fit(X_train, y_train)\n",
    "\n",
    "print(\"Best parameters set found on development set:\")\n",
    "print()\n",
    "print(mnb_clf.best_params_)\n",
    "print(mnb_clf.best_score_)\n",
    "print()\n",
    "\n",
    "print(\"Detailed classification report:\")\n",
    "print()\n",
    "y_true, y_pred = y_test, mnb_clf.predict(X_test)\n",
    "print(classification_report(y_true, y_pred))  # target_names=[0,1]\n",
    "print()\n",
    "\n",
    "\n",
    "print(f'Accuracy of MultinomialNB classifier on test set: {accuracy_score(y_true, y_pred)}')\n",
    "print()"
   ]
  },
  {
   "cell_type": "markdown",
   "metadata": {},
   "source": [
    "###### Plotting of the Confusion Matrix"
   ]
  },
  {
   "cell_type": "code",
   "execution_count": null,
   "metadata": {
    "scrolled": true
   },
   "outputs": [],
   "source": [
    "# Plot non-normalized confusion matrix\n",
    "titles_options = [(\"Confusion matrix, without normalization\", None),\n",
    "                  (\"Normalized confusion matrix\", 'true')]\n",
    "for title, normalize in titles_options:\n",
    "    disp = plot_confusion_matrix(mnb_clf, X_test, y_test,\n",
    "                                 display_labels=[decode_labels[0], decode_labels[1]],\n",
    "                                 cmap=plt.cm.Blues,\n",
    "                                 normalize=normalize)\n",
    "    disp.ax_.set_title(title)\n",
    "\n",
    "    print(title)\n",
    "    print(disp.confusion_matrix)\n",
    "\n",
    "plt.show()"
   ]
  },
  {
   "cell_type": "markdown",
   "metadata": {},
   "source": [
    "### BernoulliNB"
   ]
  },
  {
   "cell_type": "code",
   "execution_count": null,
   "metadata": {},
   "outputs": [],
   "source": [
    "# Create first pipeline for base without reducing features.\n",
    "pipe = Pipeline([('scaler', StandardScaler()),   #   MinMaxScaler\n",
    "                 ('classifier' , BernoulliNB())])\n",
    "\n",
    "# Create param grid.\n",
    "param_grid = [\n",
    "    {'classifier' : [BernoulliNB()],\n",
    "     'classifier__alpha' : np.logspace(-4, 3, 10)\n",
    "    }\n",
    "]\n",
    "\n",
    "print(f\"# Tuning hyper-parameters \")\n",
    "bnb_clf = GridSearchCV(pipe, param_grid = param_grid, cv=10, refit=True, verbose=1, n_jobs=-1, scoring='accuracy')\n",
    "bnb_clf.fit(X_train, y_train)\n",
    "\n",
    "print(\"Best parameters set found on development set:\")\n",
    "print()\n",
    "print(bnb_clf.best_params_)\n",
    "print(bnb_clf.best_score_)\n",
    "print()\n",
    "\n",
    "print(\"Detailed classification report:\")\n",
    "print()\n",
    "y_true, y_pred = y_test, bnb_clf.predict(X_test)\n",
    "print(classification_report(y_true, y_pred))  # target_names=[0,1]\n",
    "print()\n",
    "\n",
    "\n",
    "print(f'Accuracy of BernoulliNB classifier on test set: {accuracy_score(y_true, y_pred)}')\n",
    "print()"
   ]
  },
  {
   "cell_type": "code",
   "execution_count": null,
   "metadata": {},
   "outputs": [],
   "source": [
    "# Plot non-normalized confusion matrix\n",
    "titles_options = [(\"Confusion matrix, without normalization\", None),\n",
    "                  (\"Normalized confusion matrix\", 'true')]\n",
    "for title, normalize in titles_options:\n",
    "    disp = plot_confusion_matrix(bnb_clf, X_test, y_test,\n",
    "                                 display_labels=[decode_labels[0], decode_labels[1]],\n",
    "                                 cmap=plt.cm.Blues,\n",
    "                                 normalize=normalize)\n",
    "    disp.ax_.set_title(title)\n",
    "\n",
    "    print(title)\n",
    "    print(disp.confusion_matrix)\n",
    "\n",
    "plt.show()"
   ]
  },
  {
   "cell_type": "markdown",
   "metadata": {},
   "source": [
    "### GaussianNB"
   ]
  },
  {
   "cell_type": "code",
   "execution_count": null,
   "metadata": {},
   "outputs": [],
   "source": [
    "# Create first pipeline for base without reducing features.\n",
    "pipe = Pipeline([('scaler', MinMaxScaler()),   #     StandardScaler\n",
    "                 ('classifier' , GaussianNB())])\n",
    "\n",
    "# Create param grid.\n",
    "param_grid = [\n",
    "    {'classifier' : [GaussianNB()],\n",
    "    }\n",
    "]\n",
    "\n",
    "print(f\"# Tuning hyper-parameters \")\n",
    "gnb_clf = GridSearchCV(pipe, param_grid = param_grid, cv=10, verbose=1, n_jobs=-1, scoring='accuracy')\n",
    "gnb_clf.fit(X_train, y_train)\n",
    "\n",
    "print(\"Best parameters set found on development set:\")\n",
    "print()\n",
    "print(gnb_clf.best_params_)\n",
    "print(gnb_clf.best_score_)\n",
    "print()\n",
    "\n",
    "print(\"Detailed classification report:\")\n",
    "print()\n",
    "y_true, y_pred = y_test, gnb_clf.predict(X_test)\n",
    "print(classification_report(y_true, y_pred))  # target_names=[0,1]\n",
    "print()\n",
    "\n",
    "\n",
    "print(f'Accuracy of GaussianNB classifier on test set: {accuracy_score(y_true, y_pred)}')\n",
    "print()"
   ]
  },
  {
   "cell_type": "code",
   "execution_count": null,
   "metadata": {},
   "outputs": [],
   "source": [
    "# Plot non-normalized confusion matrix\n",
    "titles_options = [(\"Confusion matrix, without normalization\", None),\n",
    "                  (\"Normalized confusion matrix\", 'true')]\n",
    "for title, normalize in titles_options:\n",
    "    disp = plot_confusion_matrix(gnb_clf, X_test, y_test,\n",
    "                                 display_labels=[decode_labels[0], decode_labels[1]],\n",
    "                                 cmap=plt.cm.Blues,\n",
    "                                 normalize=normalize)\n",
    "    disp.ax_.set_title(title)\n",
    "\n",
    "    print(title)\n",
    "    print(disp.confusion_matrix)\n",
    "\n",
    "plt.show()"
   ]
  },
  {
   "cell_type": "markdown",
   "metadata": {},
   "source": [
    "#### Predicting Test set against all 3 NB models"
   ]
  },
  {
   "cell_type": "code",
   "execution_count": 72,
   "metadata": {},
   "outputs": [],
   "source": [
    "y_true, mnb_pred, bnb_pred, gnb_pred = y_test, mnb_clf.predict(X_test), bnb_clf.predict(X_test), gnb_clf.predict(X_test)"
   ]
  },
  {
   "cell_type": "code",
   "execution_count": 73,
   "metadata": {},
   "outputs": [],
   "source": [
    "out_data = pd.DataFrame(\n",
    "    {'Actual': y_true, \n",
    "     'Predicted_MultinomialNB ': mnb_pred, \n",
    "     'Predicted_BernoulliNB ': bnb_pred, \n",
    "     'Predicted_GaussianNB ': gnb_pred\n",
    "    }).reset_index(drop=True)"
   ]
  },
  {
   "cell_type": "code",
   "execution_count": 74,
   "metadata": {},
   "outputs": [],
   "source": [
    "out_data.to_csv('output.csv')"
   ]
  },
  {
   "cell_type": "code",
   "execution_count": 75,
   "metadata": {
    "scrolled": false
   },
   "outputs": [
    {
     "name": "stdout",
     "output_type": "stream",
     "text": [
      "Accuracy of Multinomial Naive Bayes Classifier : 81.9\n"
     ]
    },
    {
     "data": {
      "image/png": "[encoded data removed]",
      "text/plain": [
       "<Figure size 432x288 with 1 Axes>"
      ]
     },
     "metadata": {},
     "output_type": "display_data"
    },
    {
     "data": {
      "image/png": "[encoded data removed]",
      "text/plain": [
       "<Figure size 432x288 with 1 Axes>"
      ]
     },
     "metadata": {},
     "output_type": "display_data"
    }
   ],
   "source": [
    "from sklearn.metrics import roc_curve, auc\n",
    "from sklearn.metrics import RocCurveDisplay\n",
    "\n",
    "\n",
    "predictions = mnb_clf.predict(X_test)\n",
    "probas = mnb_clf.predict_proba(X_test)\n",
    "print(f\"Accuracy of Multinomial Naive Bayes Classifier : {round(accuracy_score(y_test, predictions)*100, 2)}\")\n",
    "\n",
    "for i in range(2):\n",
    "    y_test_bin = np.int32(y_test == i)\n",
    "    y_score = probas[:,i]\n",
    "    fpr, tpr, _ = roc_curve(y_test_bin, y_score, pos_label=1)\n",
    "    roc_display = RocCurveDisplay(fpr=fpr, tpr=tpr).plot()"
   ]
  },
  {
   "cell_type": "code",
   "execution_count": 81,
   "metadata": {},
   "outputs": [
    {
     "data": {
      "text/plain": [
       "(20879, 102)"
      ]
     },
     "execution_count": 81,
     "metadata": {},
     "output_type": "execute_result"
    }
   ],
   "source": [
    "X_train.shape"
   ]
  },
  {
   "cell_type": "code",
   "execution_count": 76,
   "metadata": {},
   "outputs": [],
   "source": [
    "def plot_decision_boundaries(X, y, model_class, **model_params):\n",
    "    \"\"\"\n",
    "    Function to plot the decision boundaries of a classification model.\n",
    "    This uses just the first two columns of the data for fitting \n",
    "    the model as we need to find the predicted value for every point in \n",
    "    scatter plot.\n",
    "    Arguments:\n",
    "            X: Feature data as a NumPy-type array.\n",
    "            y: Label data as a NumPy-type array.\n",
    "            model_class: A Scikit-learn ML estimator class \n",
    "            e.g. GaussianNB (imported from sklearn.naive_bayes) or\n",
    "            LogisticRegression (imported from sklearn.linear_model)\n",
    "            **model_params: Model parameters to be passed on to the ML estimator\n",
    "    \n",
    "    Typical code example:\n",
    "            plt.figure()\n",
    "            plt.title(\"KNN decision boundary with neighbros: 5\",fontsize=16)\n",
    "            plot_decision_boundaries(X_train,y_train,KNeighborsClassifier,n_neighbors=5)\n",
    "            plt.show()\n",
    "    \"\"\"\n",
    "    try:\n",
    "        X = np.array(X)\n",
    "        y = np.array(y).flatten()\n",
    "    except:\n",
    "        print(\"Coercing input data to NumPy arrays failed\")\n",
    "    # Reduces to the first two columns of data\n",
    "    reduced_data = X[:, :2]\n",
    "    # Instantiate the model object\n",
    "    model = model_class(**model_params)\n",
    "    # Fits the model with the reduced data\n",
    "    model.fit(reduced_data, y)\n",
    "\n",
    "    # Step size of the mesh. Decrease to increase the quality of the VQ.\n",
    "    h = .02     # point in the mesh [x_min, m_max]x[y_min, y_max].    \n",
    "\n",
    "    # Plot the decision boundary. For that, we will assign a color to each\n",
    "    x_min, x_max = reduced_data[:, 0].min() - 1, reduced_data[:, 0].max() + 1\n",
    "    y_min, y_max = reduced_data[:, 1].min() - 1, reduced_data[:, 1].max() + 1\n",
    "    # Meshgrid creation\n",
    "    xx, yy = np.meshgrid(np.arange(x_min, x_max, h), np.arange(y_min, y_max, h))\n",
    "\n",
    "    # Obtain labels for each point in mesh using the model.\n",
    "    Z = model.predict(np.c_[xx.ravel(), yy.ravel()])    \n",
    "\n",
    "    x_min, x_max = X[:, 0].min() - 1, X[:, 0].max() + 1\n",
    "    y_min, y_max = X[:, 1].min() - 1, X[:, 1].max() + 1\n",
    "    xx, yy = np.meshgrid(np.arange(x_min, x_max, 0.1),\n",
    "                         np.arange(y_min, y_max, 0.1))\n",
    "\n",
    "    # Predictions to obtain the classification results\n",
    "    Z = model.predict(np.c_[xx.ravel(), yy.ravel()]).reshape(xx.shape)\n",
    "\n",
    "    # Plotting\n",
    "    plt.contourf(xx, yy, Z, alpha=0.4)\n",
    "    plt.scatter(X[:, 0], X[:, 1], c=y, alpha=0.5)\n",
    "    plt.xlabel(\"Feature-1\",fontsize=15)\n",
    "    plt.ylabel(\"Feature-2\",fontsize=15)\n",
    "    plt.xticks(fontsize=14)\n",
    "    plt.yticks(fontsize=14)\n",
    "    return plt"
   ]
  },
  {
   "cell_type": "code",
   "execution_count": 80,
   "metadata": {},
   "outputs": [
    {
     "data": {
      "image/png": "[encoded data removed]",
      "text/plain": [
       "<Figure size 432x288 with 1 Axes>"
      ]
     },
     "metadata": {},
     "output_type": "display_data"
    }
   ],
   "source": [
    "plt.figure()\n",
    "plt.title(\"Naive Bayse Decision Boundary\", fontsize=16)\n",
    "plot_decision_boundaries(X_train, y_train, MultinomialNB)\n",
    "plt.show()"
   ]
  },
  {
   "cell_type": "code",
   "execution_count": null,
   "metadata": {},
   "outputs": [],
   "source": []
  }
 ],
 "metadata": {
  "kernelspec": {
   "display_name": "Python 3",
   "language": "python",
   "name": "python3"
  },
  "language_info": {
   "codemirror_mode": {
    "name": "ipython",
    "version": 3
   },
   "file_extension": ".py",
   "mimetype": "text/x-python",
   "name": "python",
   "nbconvert_exporter": "python",
   "pygments_lexer": "ipython3",
   "version": "3.7.10"
  }
 },
 "nbformat": 4,
 "nbformat_minor": 4
}

{
 "cells": [
  {
   "cell_type": "markdown",
   "id": "bb183f11",
   "metadata": {},
   "source": [
    "## Graph Neural Networks with PyTorch\n",
    "\n",
    "Ref: https://docs.dgl.ai/tutorials/blitz/1_introduction.html"
   ]
  },
  {
   "cell_type": "code",
   "execution_count": 1,
   "id": "2b75854d",
   "metadata": {},
   "outputs": [
    {
     "name": "stderr",
     "output_type": "stream",
     "text": [
      "Using backend: pytorch\n"
     ]
    }
   ],
   "source": [
    "# !pip install dgl\n",
    "\n",
    "import dgl\n",
    "import torch\n",
    "import torch.nn as nn\n",
    "import torch.nn.functional as F\n",
    "import dgl.data"
   ]
  },
  {
   "cell_type": "code",
   "execution_count": 2,
   "id": "07bf3898",
   "metadata": {},
   "outputs": [
    {
     "name": "stdout",
     "output_type": "stream",
     "text": [
      "  NumNodes: 2708\n",
      "  NumEdges: 10556\n",
      "  NumFeats: 1433\n",
      "  NumClasses: 7\n",
      "  NumTrainingSamples: 140\n",
      "  NumValidationSamples: 500\n",
      "  NumTestSamples: 1000\n",
      "Done loading data from cached files.\n"
     ]
    }
   ],
   "source": [
    "dataset = dgl.data.CoraGraphDataset()\n",
    "g = dataset[0]"
   ]
  },
  {
   "cell_type": "code",
   "execution_count": 3,
   "id": "3ce820e3",
   "metadata": {},
   "outputs": [
    {
     "name": "stdout",
     "output_type": "stream",
     "text": [
      "Number of categories: 7\n",
      "Node features\n",
      "{'feat': tensor([[0., 0., 0.,  ..., 0., 0., 0.],\n",
      "        [0., 0., 0.,  ..., 0., 0., 0.],\n",
      "        [0., 0., 0.,  ..., 0., 0., 0.],\n",
      "        ...,\n",
      "        [0., 0., 0.,  ..., 0., 0., 0.],\n",
      "        [0., 0., 0.,  ..., 0., 0., 0.],\n",
      "        [0., 0., 0.,  ..., 0., 0., 0.]]), 'label': tensor([3, 4, 4,  ..., 3, 3, 3]), 'test_mask': tensor([False, False, False,  ...,  True,  True,  True]), 'val_mask': tensor([False, False, False,  ..., False, False, False]), 'train_mask': tensor([ True,  True,  True,  ..., False, False, False])}\n",
      "Edge features\n",
      "{}\n"
     ]
    }
   ],
   "source": [
    "print('Number of categories:', dataset.num_classes)\n",
    "print('Node features')\n",
    "print(g.ndata)\n",
    "print('Edge features')\n",
    "print(g.edata)"
   ]
  },
  {
   "cell_type": "code",
   "execution_count": 7,
   "id": "8fd13ba0",
   "metadata": {},
   "outputs": [
    {
     "name": "stdout",
     "output_type": "stream",
     "text": [
      "Node features\n",
      "torch.Size([2708, 1433])\n",
      "Edge features\n",
      "{}\n"
     ]
    }
   ],
   "source": [
    "print('Node features')\n",
    "print(g.ndata['feat'].shape)\n",
    "print('Edge features')\n",
    "print(g.edata)"
   ]
  },
  {
   "cell_type": "code",
   "execution_count": 4,
   "id": "3d08ab0e",
   "metadata": {},
   "outputs": [],
   "source": [
    "from dgl.nn import GraphConv\n",
    "class GCN(nn.Module):\n",
    "    def __init__(self, in_feats, h_feats, num_classes):\n",
    "        super(GCN, self).__init__()\n",
    "        self.conv1 = GraphConv(in_feats, h_feats) #1432, 128\n",
    "        self.conv2 = GraphConv(h_feats, num_classes) # 128, 7\n",
    "\n",
    "    def forward(self, g, in_feat):\n",
    "        h = self.conv1(g, in_feat)\n",
    "        h = F.relu(h)\n",
    "        h = self.conv2(g, h)\n",
    "        return h"
   ]
  },
  {
   "cell_type": "code",
   "execution_count": 9,
   "id": "a8f7dc2e",
   "metadata": {},
   "outputs": [
    {
     "name": "stdout",
     "output_type": "stream",
     "text": [
      "GCN(\n",
      "  (conv1): GraphConv(in=1433, out=32, normalization=both, activation=None)\n",
      "  (conv2): GraphConv(in=32, out=7, normalization=both, activation=None)\n",
      ")\n"
     ]
    }
   ],
   "source": [
    "# Create the model with given dimensions\n",
    "\n",
    "model = GCN(g.ndata['feat'].shape[1], 32, dataset.num_classes)\n",
    "print(model)"
   ]
  },
  {
   "cell_type": "code",
   "execution_count": 10,
   "id": "e806569c",
   "metadata": {},
   "outputs": [],
   "source": [
    "def train(g, model):\n",
    "    optimizer = torch.optim.Adam(model.parameters(), lr=0.01)\n",
    "    best_val_acc = 0\n",
    "    best_test_acc = 0\n",
    "\n",
    "    features = g.ndata['feat']\n",
    "    labels = g.ndata['label']\n",
    "    train_mask = g.ndata['train_mask']\n",
    "    val_mask = g.ndata['val_mask']\n",
    "    test_mask = g.ndata['test_mask']\n",
    "    for e in range(100):\n",
    "        # Forward\n",
    "        logits = model(g, features) #0 0 0 0.2 0.4 0.9 0.1\n",
    "\n",
    "        # Compute prediction\n",
    "        pred = logits.argmax(1)\n",
    "\n",
    "        # Compute loss\n",
    "        # Note that you should only compute the losses of the nodes in the training set.\n",
    "        loss = F.cross_entropy(logits[train_mask], labels[train_mask])\n",
    "\n",
    "        # Compute accuracy on training/validation/test\n",
    "        train_acc = (pred[train_mask] == labels[train_mask]).float().mean()\n",
    "        val_acc = (pred[val_mask] == labels[val_mask]).float().mean()\n",
    "        test_acc = (pred[test_mask] == labels[test_mask]).float().mean()\n",
    "\n",
    "        # Save the best validation accuracy and the corresponding test accuracy.\n",
    "        if best_val_acc < val_acc:\n",
    "            best_val_acc = val_acc\n",
    "            best_test_acc = test_acc\n",
    "\n",
    "        # Backward\n",
    "        optimizer.zero_grad()\n",
    "        loss.backward()\n",
    "        optimizer.step()\n",
    "\n",
    "        if e % 5 == 0:\n",
    "            print('In epoch {}, loss: {:.3f}, val acc: {:.3f} (best {:.3f}), test acc: {:.3f} (best {:.3f})'.format(\n",
    "                e, loss, val_acc, best_val_acc, test_acc, best_test_acc))\n"
   ]
  },
  {
   "cell_type": "code",
   "execution_count": 11,
   "id": "cae86661",
   "metadata": {},
   "outputs": [
    {
     "name": "stdout",
     "output_type": "stream",
     "text": [
      "In epoch 0, loss: 1.945, val acc: 0.154 (best 0.154), test acc: 0.149 (best 0.149)\n",
      "In epoch 5, loss: 1.888, val acc: 0.554 (best 0.560), test acc: 0.586 (best 0.584)\n",
      "In epoch 10, loss: 1.805, val acc: 0.630 (best 0.630), test acc: 0.643 (best 0.643)\n",
      "In epoch 15, loss: 1.698, val acc: 0.686 (best 0.686), test acc: 0.667 (best 0.667)\n",
      "In epoch 20, loss: 1.567, val acc: 0.692 (best 0.694), test acc: 0.686 (best 0.680)\n",
      "In epoch 25, loss: 1.415, val acc: 0.706 (best 0.706), test acc: 0.698 (best 0.698)\n",
      "In epoch 30, loss: 1.246, val acc: 0.720 (best 0.720), test acc: 0.722 (best 0.722)\n",
      "In epoch 35, loss: 1.070, val acc: 0.724 (best 0.726), test acc: 0.725 (best 0.726)\n",
      "In epoch 40, loss: 0.896, val acc: 0.742 (best 0.742), test acc: 0.738 (best 0.738)\n",
      "In epoch 45, loss: 0.734, val acc: 0.758 (best 0.758), test acc: 0.753 (best 0.753)\n",
      "In epoch 50, loss: 0.592, val acc: 0.768 (best 0.768), test acc: 0.767 (best 0.764)\n",
      "In epoch 55, loss: 0.474, val acc: 0.774 (best 0.774), test acc: 0.774 (best 0.770)\n",
      "In epoch 60, loss: 0.379, val acc: 0.780 (best 0.780), test acc: 0.775 (best 0.774)\n",
      "In epoch 65, loss: 0.304, val acc: 0.782 (best 0.782), test acc: 0.782 (best 0.780)\n",
      "In epoch 70, loss: 0.247, val acc: 0.778 (best 0.782), test acc: 0.782 (best 0.780)\n",
      "In epoch 75, loss: 0.202, val acc: 0.780 (best 0.782), test acc: 0.783 (best 0.780)\n",
      "In epoch 80, loss: 0.167, val acc: 0.784 (best 0.784), test acc: 0.780 (best 0.780)\n",
      "In epoch 85, loss: 0.140, val acc: 0.788 (best 0.788), test acc: 0.778 (best 0.778)\n",
      "In epoch 90, loss: 0.119, val acc: 0.792 (best 0.792), test acc: 0.778 (best 0.777)\n",
      "In epoch 95, loss: 0.101, val acc: 0.792 (best 0.792), test acc: 0.771 (best 0.777)\n"
     ]
    }
   ],
   "source": [
    "model = GCN(g.ndata['feat'].shape[1], 16, dataset.num_classes)\n",
    "train(g, model)"
   ]
  }
 ],
 "metadata": {
  "kernelspec": {
   "display_name": "Python 3",
   "language": "python",
   "name": "python3"
  },
  "language_info": {
   "codemirror_mode": {
    "name": "ipython",
    "version": 3
   },
   "file_extension": ".py",
   "mimetype": "text/x-python",
   "name": "python",
   "nbconvert_exporter": "python",
   "pygments_lexer": "ipython3",
   "version": "3.7.10"
  }
 },
 "nbformat": 4,
 "nbformat_minor": 5
}

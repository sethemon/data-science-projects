{
 "cells": [
  {
   "cell_type": "markdown",
   "metadata": {},
   "source": [
    "### POS-Tagging using Hidden Markov Model"
   ]
  },
  {
   "cell_type": "code",
   "execution_count": 1,
   "metadata": {},
   "outputs": [],
   "source": [
    "import pandas as pd\n",
    "from tabulate import tabulate"
   ]
  },
  {
   "cell_type": "code",
   "execution_count": 2,
   "metadata": {},
   "outputs": [],
   "source": [
    "# given states - what are the possible combinations\n",
    "# total number of combinations is (number of possible states)^(sequence length)\n",
    "def generate_sequence(states, sequence_length):\n",
    "    \n",
    "    all_sequences = []\n",
    "    nodes = []\n",
    "    \n",
    "    depth = sequence_length\n",
    "    \n",
    "    def gen_seq_recur(states, nodes, depth):\n",
    "        if depth == 0:\n",
    "            #print nodes\n",
    "            all_sequences.append(nodes)\n",
    "        else:\n",
    "            for state in states:\n",
    "                temp_nodes = list(nodes)\n",
    "                temp_nodes.append(state)\n",
    "                gen_seq_recur(states,temp_nodes,depth-1)\n",
    "    \n",
    "    gen_seq_recur(states,[],depth)\n",
    "                \n",
    "    return all_sequences"
   ]
  },
  {
   "cell_type": "code",
   "execution_count": 3,
   "metadata": {},
   "outputs": [],
   "source": [
    "def score_sequences(sequences,initial_probs,transition_probs,emission_probs,obs):\n",
    "    \n",
    "    best_score = -1\n",
    "    best_sequence = None\n",
    "    \n",
    "    sequence_scores = []\n",
    "    for seq in sequences:\n",
    "        total_score = 1\n",
    "        first = True\n",
    "        for i in range(len(seq)):\n",
    "            state_score = 1\n",
    "            # compute transitition probability score\n",
    "            if first == True:\n",
    "                state_score *= initial_probs[seq[i]]\n",
    "                # reset first flag\n",
    "                first = False\n",
    "            else:  \n",
    "                state_score *= transition_probs[seq[i] + \"|\" + seq[i-1]]\n",
    "            # add to emission probability score\n",
    "            state_score *= emission_probs[obs[i] + \"|\" + seq[i]]\n",
    "            # update the total score\n",
    "            #print state_score\n",
    "            total_score *= state_score\n",
    "            \n",
    "        sequence_scores.append(total_score)\n",
    "        \n",
    "    return sequence_scores"
   ]
  },
  {
   "cell_type": "code",
   "execution_count": 4,
   "metadata": {},
   "outputs": [],
   "source": [
    "# pretty printing our  distributions\n",
    "def pretty_print_probs(distribs):\n",
    "    print(distribs)\n",
    "    rows = set()\n",
    "    cols = set()\n",
    "    for val in distribs.keys():\n",
    "        \n",
    "        temp = val.split(\"|\")\n",
    "        rows.add(temp[0])\n",
    "        cols.add(temp[1])\n",
    "        \n",
    "    rows = list(rows)\n",
    "    cols = list(cols)\n",
    "    df = []\n",
    "    for i in range(len(rows)):\n",
    "        temp = []\n",
    "        for j in range(len(cols)):\n",
    "            temp.append(distribs[rows[i]+\"|\"+cols[j]])\n",
    "            \n",
    "        df.append(temp)\n",
    "        \n",
    "    I = pd.Index(rows, name=\"rows\")\n",
    "    C = pd.Index(cols, name=\"cols\")\n",
    "    df = pd.DataFrame(data=df,index=I, columns=C)\n",
    "    \n",
    "    print (tabulate(df, headers='keys', tablefmt='psql'))"
   ]
  },
  {
   "cell_type": "code",
   "execution_count": 5,
   "metadata": {},
   "outputs": [],
   "source": [
    "def initializeSequences(_obs):\n",
    "    # Generate list of sequences\n",
    "    \n",
    "    seqLen = len(_obs)\n",
    "    seqs = generate_sequence(states, seqLen)\n",
    "    # Score sequences\n",
    "    seq_scores = score_sequences(seqs,initial_probs,transition_probs,emission_probs,obs)\n",
    "    \n",
    "    return (seqLen,seqs,seq_scores)"
   ]
  },
  {
   "cell_type": "code",
   "execution_count": 6,
   "metadata": {},
   "outputs": [
    {
     "name": "stdout",
     "output_type": "stream",
     "text": [
      "Initial Distributions\n",
      "{'Noun': 0.9, 'Verb': 0.05, 'Determiner': 0.05}\n",
      "\n",
      "Transition Probabilities\n",
      "{'Noun|Noun': 0.1, 'Noun|Verb': 0.1, 'Noun|Determiner': 0.8, 'Verb|Noun': 0.8, 'Verb|Verb': 0.1, 'Verb|Determiner': 0.1, 'Determiner|Noun': 0.1, 'Determiner|Verb': 0.8, 'Determiner|Determiner': 0.1}\n",
      "+------------+--------------+--------+--------+\n",
      "| rows       |   Determiner |   Verb |   Noun |\n",
      "|------------+--------------+--------+--------|\n",
      "| Determiner |          0.1 |    0.8 |    0.1 |\n",
      "| Verb       |          0.1 |    0.1 |    0.8 |\n",
      "| Noun       |          0.8 |    0.1 |    0.1 |\n",
      "+------------+--------------+--------+--------+\n",
      "\n",
      "Emission Probabilities\n",
      "{'Vimal|Noun': 0.9, 'taught|Noun': 0.05, 'the|Noun': 0.05, 'class|Noun': 0.9, 'Vimal|Verb': 0.05, 'taught|Verb': 0.9, 'the|Verb': 0.05, 'class|Verb': 0.05, 'Vimal|Determiner': 0.05, 'taught|Determiner': 0.05, 'the|Determiner': 0.9, 'class|Determiner': 0.05}\n",
      "+--------+--------------+--------+--------+\n",
      "| rows   |   Determiner |   Verb |   Noun |\n",
      "|--------+--------------+--------+--------|\n",
      "| taught |         0.05 |   0.9  |   0.05 |\n",
      "| the    |         0.9  |   0.05 |   0.05 |\n",
      "| Vimal  |         0.05 |   0.05 |   0.9  |\n",
      "| class  |         0.05 |   0.05 |   0.9  |\n",
      "+--------+--------------+--------+--------+\n"
     ]
    }
   ],
   "source": [
    "states = ['Noun','Verb','Determiner']\n",
    "initial_probs = {'Noun':0.9,'Verb':0.05,'Determiner':0.05}\n",
    "transition_probs = {'Noun|Noun':0.1,'Noun|Verb':0.1,'Noun|Determiner':0.8,\n",
    "                    'Verb|Noun':0.8,'Verb|Verb':0.1,'Verb|Determiner':0.1,\n",
    "                    'Determiner|Noun':0.1,'Determiner|Verb':0.8,'Determiner|Determiner':0.1}\n",
    "emission_probs = {'Vimal|Noun':0.9,'taught|Noun':0.05,'the|Noun':0.05,'class|Noun':0.9,\\\n",
    "                  'Vimal|Verb':0.05,'taught|Verb':0.9,'the|Verb':0.05,'class|Verb':0.05,\\\n",
    "                  'Vimal|Determiner':0.05,'taught|Determiner':0.05,'the|Determiner':0.9,'class|Determiner':0.05}\n",
    "print(\"Initial Distributions\")\n",
    "print(initial_probs)\n",
    "print(\"\\nTransition Probabilities\")\n",
    "pretty_print_probs(transition_probs)\n",
    "print(\"\\nEmission Probabilities\")\n",
    "pretty_print_probs(emission_probs)"
   ]
  },
  {
   "cell_type": "code",
   "execution_count": 7,
   "metadata": {},
   "outputs": [],
   "source": [
    "obs = ['Rahul','taught','the','class']"
   ]
  },
  {
   "cell_type": "code",
   "execution_count": 16,
   "metadata": {},
   "outputs": [
    {
     "name": "stdout",
     "output_type": "stream",
     "text": [
      "\n",
      "Scores\n",
      "Sequence:['Noun', 'Noun', 'Noun', 'Noun']                   Score:0.000002\n",
      "Sequence:['Noun', 'Noun', 'Noun', 'Verb']                   Score:0.000001\n",
      "Sequence:['Noun', 'Noun', 'Noun', 'Determiner']             Score:0.000000\n",
      "Sequence:['Noun', 'Noun', 'Verb', 'Noun']                   Score:0.000015\n",
      "Sequence:['Noun', 'Noun', 'Verb', 'Verb']                   Score:0.000001\n",
      "Sequence:['Noun', 'Noun', 'Verb', 'Determiner']             Score:0.000006\n",
      "Sequence:['Noun', 'Noun', 'Determiner', 'Noun']             Score:0.000262\n",
      "Sequence:['Noun', 'Noun', 'Determiner', 'Verb']             Score:0.000002\n",
      "Sequence:['Noun', 'Noun', 'Determiner', 'Determiner']       Score:0.000002\n",
      "Sequence:['Noun', 'Verb', 'Noun', 'Noun']                   Score:0.000262\n",
      "Sequence:['Noun', 'Verb', 'Noun', 'Verb']                   Score:0.000117\n",
      "Sequence:['Noun', 'Verb', 'Noun', 'Determiner']             Score:0.000015\n",
      "Sequence:['Noun', 'Verb', 'Verb', 'Noun']                   Score:0.000262\n",
      "Sequence:['Noun', 'Verb', 'Verb', 'Verb']                   Score:0.000015\n",
      "Sequence:['Noun', 'Verb', 'Verb', 'Determiner']             Score:0.000117\n",
      "Sequence:['Noun', 'Verb', 'Determiner', 'Noun']             Score:0.302331\n",
      "Sequence:['Noun', 'Verb', 'Determiner', 'Verb']             Score:0.002100\n",
      "Sequence:['Noun', 'Verb', 'Determiner', 'Determiner']       Score:0.002100\n",
      "Sequence:['Noun', 'Determiner', 'Noun', 'Noun']             Score:0.000015\n",
      "Sequence:['Noun', 'Determiner', 'Noun', 'Verb']             Score:0.000006\n",
      "Sequence:['Noun', 'Determiner', 'Noun', 'Determiner']       Score:0.000001\n",
      "Sequence:['Noun', 'Determiner', 'Verb', 'Noun']             Score:0.000002\n",
      "Sequence:['Noun', 'Determiner', 'Verb', 'Verb']             Score:0.000000\n",
      "Sequence:['Noun', 'Determiner', 'Verb', 'Determiner']       Score:0.000001\n",
      "Sequence:['Noun', 'Determiner', 'Determiner', 'Noun']       Score:0.000262\n",
      "Sequence:['Noun', 'Determiner', 'Determiner', 'Verb']       Score:0.000002\n",
      "Sequence:['Noun', 'Determiner', 'Determiner', 'Determiner'] Score:0.000002\n",
      "Sequence:['Verb', 'Noun', 'Noun', 'Noun']                   Score:0.000000\n",
      "Sequence:['Verb', 'Noun', 'Noun', 'Verb']                   Score:0.000000\n",
      "Sequence:['Verb', 'Noun', 'Noun', 'Determiner']             Score:0.000000\n",
      "Sequence:['Verb', 'Noun', 'Verb', 'Noun']                   Score:0.000000\n",
      "Sequence:['Verb', 'Noun', 'Verb', 'Verb']                   Score:0.000000\n",
      "Sequence:['Verb', 'Noun', 'Verb', 'Determiner']             Score:0.000000\n",
      "Sequence:['Verb', 'Noun', 'Determiner', 'Noun']             Score:0.000001\n",
      "Sequence:['Verb', 'Noun', 'Determiner', 'Verb']             Score:0.000000\n",
      "Sequence:['Verb', 'Noun', 'Determiner', 'Determiner']       Score:0.000000\n",
      "Sequence:['Verb', 'Verb', 'Noun', 'Noun']                   Score:0.000000\n",
      "Sequence:['Verb', 'Verb', 'Noun', 'Verb']                   Score:0.000000\n",
      "Sequence:['Verb', 'Verb', 'Noun', 'Determiner']             Score:0.000000\n",
      "Sequence:['Verb', 'Verb', 'Verb', 'Noun']                   Score:0.000000\n",
      "Sequence:['Verb', 'Verb', 'Verb', 'Verb']                   Score:0.000000\n",
      "Sequence:['Verb', 'Verb', 'Verb', 'Determiner']             Score:0.000000\n",
      "Sequence:['Verb', 'Verb', 'Determiner', 'Noun']             Score:0.000117\n",
      "Sequence:['Verb', 'Verb', 'Determiner', 'Verb']             Score:0.000001\n",
      "Sequence:['Verb', 'Verb', 'Determiner', 'Determiner']       Score:0.000001\n",
      "Sequence:['Verb', 'Determiner', 'Noun', 'Noun']             Score:0.000000\n",
      "Sequence:['Verb', 'Determiner', 'Noun', 'Verb']             Score:0.000000\n",
      "Sequence:['Verb', 'Determiner', 'Noun', 'Determiner']       Score:0.000000\n",
      "Sequence:['Verb', 'Determiner', 'Verb', 'Noun']             Score:0.000000\n",
      "Sequence:['Verb', 'Determiner', 'Verb', 'Verb']             Score:0.000000\n",
      "Sequence:['Verb', 'Determiner', 'Verb', 'Determiner']       Score:0.000000\n",
      "Sequence:['Verb', 'Determiner', 'Determiner', 'Noun']       Score:0.000006\n",
      "Sequence:['Verb', 'Determiner', 'Determiner', 'Verb']       Score:0.000000\n",
      "Sequence:['Verb', 'Determiner', 'Determiner', 'Determiner'] Score:0.000000\n",
      "Sequence:['Determiner', 'Noun', 'Noun', 'Noun']             Score:0.000000\n",
      "Sequence:['Determiner', 'Noun', 'Noun', 'Verb']             Score:0.000000\n",
      "Sequence:['Determiner', 'Noun', 'Noun', 'Determiner']       Score:0.000000\n",
      "Sequence:['Determiner', 'Noun', 'Verb', 'Noun']             Score:0.000000\n",
      "Sequence:['Determiner', 'Noun', 'Verb', 'Verb']             Score:0.000000\n",
      "Sequence:['Determiner', 'Noun', 'Verb', 'Determiner']       Score:0.000000\n",
      "Sequence:['Determiner', 'Noun', 'Determiner', 'Noun']       Score:0.000006\n",
      "Sequence:['Determiner', 'Noun', 'Determiner', 'Verb']       Score:0.000000\n",
      "Sequence:['Determiner', 'Noun', 'Determiner', 'Determiner'] Score:0.000000\n",
      "Sequence:['Determiner', 'Verb', 'Noun', 'Noun']             Score:0.000000\n",
      "Sequence:['Determiner', 'Verb', 'Noun', 'Verb']             Score:0.000000\n",
      "Sequence:['Determiner', 'Verb', 'Noun', 'Determiner']       Score:0.000000\n",
      "Sequence:['Determiner', 'Verb', 'Verb', 'Noun']             Score:0.000000\n",
      "Sequence:['Determiner', 'Verb', 'Verb', 'Verb']             Score:0.000000\n",
      "Sequence:['Determiner', 'Verb', 'Verb', 'Determiner']       Score:0.000000\n",
      "Sequence:['Determiner', 'Verb', 'Determiner', 'Noun']       Score:0.000117\n",
      "Sequence:['Determiner', 'Verb', 'Determiner', 'Verb']       Score:0.000001\n",
      "Sequence:['Determiner', 'Verb', 'Determiner', 'Determiner'] Score:0.000001\n",
      "Sequence:['Determiner', 'Determiner', 'Noun', 'Noun']       Score:0.000000\n",
      "Sequence:['Determiner', 'Determiner', 'Noun', 'Verb']       Score:0.000000\n",
      "Sequence:['Determiner', 'Determiner', 'Noun', 'Determiner'] Score:0.000000\n",
      "Sequence:['Determiner', 'Determiner', 'Verb', 'Noun']       Score:0.000000\n",
      "Sequence:['Determiner', 'Determiner', 'Verb', 'Verb']       Score:0.000000\n",
      "Sequence:['Determiner', 'Determiner', 'Verb', 'Determiner'] Score:0.000000\n",
      "Sequence:['Determiner', 'Determiner', 'Determiner', 'Noun'] Score:0.000001\n",
      "Sequence:['Determiner', 'Determiner', 'Determiner', 'Verb'] Score:0.000000\n",
      "Sequence:['Determiner', 'Determiner', 'Determiner', 'Determiner'] Score:0.000000\n"
     ]
    }
   ],
   "source": [
    "# print results\n",
    "print(\"\\nScores\")\n",
    "# Generate list of sequences\n",
    "sequence_length,sequences,sequence_scores = initializeSequences(obs)\n",
    "# Display sequence scores\n",
    "for i in range(len(sequences)):\n",
    "    print(\"Sequence:%-50s Score:%0.6f\" % (sequences[i],sequence_scores[i]))"
   ]
  },
  {
   "cell_type": "code",
   "execution_count": 9,
   "metadata": {},
   "outputs": [
    {
     "name": "stdout",
     "output_type": "stream",
     "text": [
      "\n",
      " Best Sequence\n",
      "['Noun', 'Verb', 'Determiner', 'Noun'] 0.30233088000000014\n"
     ]
    }
   ],
   "source": [
    "# Display the winning score\n",
    "print(\"\\n Best Sequence\")\n",
    "print(sequences[sequence_scores.index(max(sequence_scores))],max(sequence_scores))"
   ]
  }
 ],
 "metadata": {
  "kernelspec": {
   "display_name": "Python 3",
   "language": "python",
   "name": "python3"
  },
  "language_info": {
   "codemirror_mode": {
    "name": "ipython",
    "version": 3
   },
   "file_extension": ".py",
   "mimetype": "text/x-python",
   "name": "python",
   "nbconvert_exporter": "python",
   "pygments_lexer": "ipython3",
   "version": "3.7.10"
  }
 },
 "nbformat": 4,
 "nbformat_minor": 2
}

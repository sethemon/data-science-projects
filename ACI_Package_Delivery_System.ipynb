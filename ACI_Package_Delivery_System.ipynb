{
 "cells": [
  {
   "cell_type": "markdown",
   "metadata": {},
   "source": [
    "## Artificial and Computational Intelligence - Local Search"
   ]
  },
  {
   "attachments": {
    "image-2.png": {
     "image/png": "[encoded data removed]"
    },
    "image.png": {
     "image/png": "[encoded data removed]"
    }
   },
   "cell_type": "markdown",
   "metadata": {},
   "source": [
    "### Problem statement - Packet delivery agent\n",
    "\n",
    "Assume that you are in charge of an online e-commerce site which collects goods from vendors, stores them in godowns and later deliver them based on order placed. You have been assigned with robots that pick up packets from the front office and stores them in appropriate rooms. The packets are of different weights. The robot can carry 10 Kgs at a time. As in charge of the facility, you are required to give specific instructions to the robot to carry packets and store them in the rooms which are of different capacities. \n",
    "\n",
    "> The problem here is to find the correct combination of packets that can be carried by the robot so as to minimize the number of commutes by the robot to complete the job, the number of rooms used by the robot to store the contingency, and the remaining storage space.\n",
    "\n",
    "\n",
    "##### The following figure gives the environment of the robot:\n",
    "\n",
    "![image.png](attachment:image.png)\n",
    "\n",
    "\n",
    "\n",
    "##### The below table gives the Packet weights and number of packets:\n",
    "\n",
    "![image-2.png](attachment:image-2.png)\n",
    "\n",
    "\n",
    "1.\tExplain the heuristic that can be used to solve the problem? Justify your choice.\n",
    "2.\tExplain the cost function associated with your search in reaching the goal.\n",
    "3.\tChoose the correct algorithm suitable for this grid search.\n",
    "4.\tPrint the number of commutes by the robot, the weight carried by the robot in each commute, the number of rooms used to store the contingency and the remaining space for the store keeper’s reference.\n"
   ]
  },
  {
   "cell_type": "markdown",
   "metadata": {},
   "source": [
    "##### Problem to be solved using Local search\n",
    "\n",
    "Things to follow:\n",
    "1. Use appropriate data structures to represent the graph and the path using python libraries\n",
    "2. Provide proper documentation\n",
    "3. Find the path and cost associated with the path and print these\n"
   ]
  },
  {
   "cell_type": "markdown",
   "metadata": {},
   "source": [
    "### Definition of PEAS\n",
    "PEAS stand for Performance, Environment, Actuators, and Sensors. Based on these properties of an agent, they can be distinguished together or can be differentiated from each other. These properties provide the insight of an agent, as given below:\n",
    "\n",
    "> ##### Performance: \n",
    "The output which we get from the agent. All the necessary results that an agent gives after processing comes under its performance. Our robot will process all the packets and rearrange them in the combination of 10 weights or less for each trip and how the robot will process all the packets and rearrange them in the combination of weights given for storage in go-down room.  Measures: Complete delivery of packages, minimize transversal of robot, minimize utilization of go-down rooms, maximize robot's backpack filling.\n",
    "\n",
    "> ##### Environment: \n",
    "All the surrounding things and conditions of an agent fall in this section. It basically consists of all the things under which the agents work. Our robot will be configured to the given map of the go-down like with are all the rooms for storage, capacity of all the rooms, front office location, directional information, go-down Pathway/ramps, various weights of the packages.\n",
    "\n",
    "> ##### Actuators: \n",
    "The devices, hardware or software through which the agent performs any actions or processes any information to produce a result are the actuators of the agent. Our robot should be programmable with some hardware to identify the weights, engine (with battery) to transport, fork-lift for package transfer (lift and drop), ramp/pathway movement tracks, etc.\n",
    "\n",
    "> ##### Sensors: \n",
    "The devices through which the agent observes and perceives its environment are the sensors of the agent. Our robot will be required some sensors to identify the movement via GPS for pathway and room location, room capacity detector, package weight sensor, backpack sensor (utilization), connectivity/Wi-fi instruction receiver etc."
   ]
  },
  {
   "cell_type": "markdown",
   "metadata": {},
   "source": [
    "### Cost Function\n",
    "For our problem, the cost function is going to be the number of trips the robot will take to traverse the go-down until end of incoming consignment. And based on the input, we have total consignment of 131 kgs and each time robot can pick max 10 kgs, so minimum cost will be 131/10 i.e. 13 Trips + 1 Trip for the left-over weight of 1 kg. Finally, 14 Trips are required.\n",
    "\n",
    "For the go-down room, the cost function is going to be the number of rooms used. And based on the input, we have total 131 kgs and total rooms capacity 159 kgs, so the capacity left for the go-down should be      159-131 = 28 kgs. So, Room with capacity 20kg and Room of 5 kg can be empty, only 4 rooms should be used for achieving the least cost.\n"
   ]
  },
  {
   "cell_type": "markdown",
   "metadata": {},
   "source": [
    "### Heuristic used to solve the problem : Greedy Heuristic\n",
    "1.\tSort the Bags which takes the maximum weight that can be carried by the robot.\n",
    "2.\tRobot bag to carry maximum packet and if remaining capacity, fill it with the least maximum weight available and if that is not possible try with the next least weight until you have the maximum storage capacity of the bag.\n",
    "3.\tStart the traversal of the go-down in search of the highest available rooms.\n",
    "4.\tGo-down room search - During traversal, search for largest room available with the incoming packet, till it’s filled and then move on to the next largest room until the package is empty. \n",
    "5.\tTraverse back to the front-office for filling the robot package and start from Step 3.\n",
    "6.\tStop when go-down capacity is 0 or package consignment is 0."
   ]
  },
  {
   "cell_type": "markdown",
   "metadata": {},
   "source": [
    "#### INITIAL DATA loading (as Python dictionary)"
   ]
  },
  {
   "cell_type": "code",
   "execution_count": 50,
   "metadata": {},
   "outputs": [],
   "source": [
    "# Godown room capacity (in Kgs) -> Room Allotment (in Kgs)\n",
    "godown_rooms = {25:0, 5:0, 28:0, 35:0, 20:0, 46:0}\n",
    "\n",
    "# Robot carriage capacity (in Kgs)\n",
    "robot_bag_size = 10\n",
    "\n",
    "# Packet weight (in Kgs) -> Packet count\n",
    "packet_dict = {1 : 15,\n",
    "               2 : 5,\n",
    "               4 : 7,\n",
    "               5 : 2,\n",
    "               6 : 3,\n",
    "               7 : 2,\n",
    "               9 : 4 }"
   ]
  },
  {
   "cell_type": "markdown",
   "metadata": {},
   "source": [
    "#### Total no. of packets"
   ]
  },
  {
   "cell_type": "code",
   "execution_count": 51,
   "metadata": {},
   "outputs": [
    {
     "name": "stdout",
     "output_type": "stream",
     "text": [
      "38\n"
     ]
    }
   ],
   "source": [
    "total_packets = sum(packet_dict.values())\n",
    "print(total_packets)"
   ]
  },
  {
   "cell_type": "markdown",
   "metadata": {},
   "source": [
    "#### Total weight of packets in given consignment"
   ]
  },
  {
   "cell_type": "code",
   "execution_count": 52,
   "metadata": {
    "scrolled": false
   },
   "outputs": [
    {
     "name": "stdout",
     "output_type": "stream",
     "text": [
      "131\n"
     ]
    }
   ],
   "source": [
    "total_consignment = sum([key * val for key, val in packet_dict.items()])\n",
    "print(total_consignment)"
   ]
  },
  {
   "cell_type": "code",
   "execution_count": 32,
   "metadata": {},
   "outputs": [],
   "source": [
    "def get_godown_capacity(godown_room):\n",
    "    get_godown_room_capacity(godown_room)\n",
    "    return sum([key - val for key, val in godown_room.items()])"
   ]
  },
  {
   "cell_type": "code",
   "execution_count": 33,
   "metadata": {},
   "outputs": [],
   "source": [
    "def get_godown_room_capacity(godown_rooms):\n",
    "    for key, val in godown_rooms.items():\n",
    "        print(f\"Room size: {key} --> Remaining Capacity: {key - val}\")"
   ]
  },
  {
   "cell_type": "code",
   "execution_count": 34,
   "metadata": {
    "scrolled": true
   },
   "outputs": [
    {
     "name": "stdout",
     "output_type": "stream",
     "text": [
      "Room size: 25 --> Remaining Capacity: 25\n",
      "Room size: 5 --> Remaining Capacity: 5\n",
      "Room size: 28 --> Remaining Capacity: 28\n",
      "Room size: 35 --> Remaining Capacity: 35\n",
      "Room size: 20 --> Remaining Capacity: 20\n",
      "Room size: 46 --> Remaining Capacity: 46\n",
      "Remaining Godown Capacity : 159\n"
     ]
    }
   ],
   "source": [
    "print(f\"Remaining Godown Capacity : {get_godown_capacity(godown_rooms)}\")"
   ]
  },
  {
   "cell_type": "markdown",
   "metadata": {},
   "source": [
    "### Implementation of Local search algorithm"
   ]
  },
  {
   "cell_type": "code",
   "execution_count": 43,
   "metadata": {},
   "outputs": [],
   "source": [
    "# check whether the robot bag is filled, if filled, return True\n",
    "def check_bag_filled(robot_bag):\n",
    "    if sum(robot_bag) == 10:\n",
    "        return True\n",
    "    else:\n",
    "        return False"
   ]
  },
  {
   "cell_type": "code",
   "execution_count": 44,
   "metadata": {},
   "outputs": [],
   "source": [
    "# get the maximum packet size which needs to be populated into the robot's bag\n",
    "def get_max_packet(packet_dict):\n",
    "    i = len(packet_dict) - 1\n",
    "    while i >= 0:\n",
    "        if i == 0:\n",
    "            return list(packet_dict.keys())[0]\n",
    "        elif packet_dict[sorted(packet_dict.keys())[i-(len(packet_dict))]] > 0:\n",
    "            return sorted(packet_dict.keys())[i-(len(packet_dict))]\n",
    "        else:\n",
    "            i = i - 1"
   ]
  },
  {
   "cell_type": "code",
   "execution_count": 45,
   "metadata": {},
   "outputs": [],
   "source": [
    "# get the next maximum packet based on minimum space available in backpack\n",
    "def get_min_packet(packet_dict, robot_bag_cap):\n",
    "    valid_weights = {k : v for k, v in packet_dict.items() if k <= robot_bag_cap}\n",
    "    return get_max_packet(valid_weights)\n",
    "\n",
    "#     i = 0\n",
    "#     while i < len(packet_dict) - 1:\n",
    "#         if valid_weights[sorted(packet_dict.keys())[i-(len(packet_dict))]] > 0:\n",
    "#             return sorted(packet_dict.keys())[i-(len(packet_dict))]\n",
    "#         else:\n",
    "#             i = i + 1"
   ]
  },
  {
   "cell_type": "code",
   "execution_count": 46,
   "metadata": {},
   "outputs": [],
   "source": [
    "# fill the robot bag with optimal packets and return the bag content\n",
    "def fill_robot_bag(packet_dict, robot_bag_cap, temp_packet, robot_bag):\n",
    "#     print(robot_bag)\n",
    "    if packet_dict[temp_packet] > 0 and temp_packet <= robot_bag_cap:\n",
    "#         print(f\"temp_packet - {temp_packet}\")\n",
    "        robot_bag.append(temp_packet)\n",
    "        robot_bag_cap = robot_bag_cap - temp_packet\n",
    "        decrease_count = packet_dict[temp_packet] - 1\n",
    "        if decrease_count <= 0:\n",
    "            packet_dict.update({temp_packet : 0})\n",
    "        else:\n",
    "            packet_dict.update({temp_packet : decrease_count})\n",
    "#         print(f\"packet_dict = {packet_dict}\")\n",
    "#         print(f\"robot_bag_cap - {robot_bag_cap}\")\n",
    "#         print(f\"robo_bag = {robot_bag}\")\n",
    "\n",
    "        if check_bag_filled(robot_bag):\n",
    "            print(\"Robot bag Filled !\")\n",
    "        else:\n",
    "            # print(\"Filling ...\")\n",
    "            fill_robot_bag(packet_dict, robot_bag_cap, get_min_packet(packet_dict, robot_bag_cap), robot_bag)\n",
    "    return robot_bag"
   ]
  },
  {
   "cell_type": "code",
   "execution_count": 47,
   "metadata": {},
   "outputs": [],
   "source": [
    "# find the largest available room wihich can accept the incoming packet size\n",
    "def get_largest_available_room(godown_room, each_packet):\n",
    "    i = len(godown_room) - 1\n",
    "    while i >= 0:\n",
    "        max_room = sorted(godown_room.keys())[i-(len(godown_room))]\n",
    "#         if i == 0:\n",
    "#             return list(godown_room.keys())[0]\n",
    "        if (max_room - godown_room[max_room]) >= each_packet:\n",
    "            return max_room\n",
    "        else:\n",
    "            i = i - 1"
   ]
  },
  {
   "cell_type": "code",
   "execution_count": 48,
   "metadata": {
    "scrolled": true
   },
   "outputs": [],
   "source": [
    "# fill the optimal room with the incoming packet \n",
    "def fill_best_room(godown_room, robot_bag_weights):\n",
    "    for each_packet in robot_bag_weights:\n",
    "        biggest_room = get_largest_available_room(godown_room, each_packet)\n",
    "        if biggest_room is not None:\n",
    "            decrease_capacity = godown_room[biggest_room] + each_packet\n",
    "            godown_room.update({biggest_room : decrease_capacity})\n",
    "            print(f\"Filled Room {biggest_room} with packet size : {each_packet} \")\n",
    "        else:\n",
    "            print(godown_room)\n",
    "            print(\"No more room available in godown !\")\n",
    "            break\n",
    "            "
   ]
  },
  {
   "cell_type": "code",
   "execution_count": 53,
   "metadata": {},
   "outputs": [
    {
     "name": "stdout",
     "output_type": "stream",
     "text": [
      "Total Consignment at Front desk: 131\n"
     ]
    }
   ],
   "source": [
    "total_consignment = sum([key * val for key, val in packet_dict.items()])\n",
    "print(f\"Total Consignment at Front desk: {total_consignment}\")"
   ]
  },
  {
   "cell_type": "markdown",
   "metadata": {},
   "source": [
    "### Calling the search algorithm"
   ]
  },
  {
   "cell_type": "code",
   "execution_count": null,
   "metadata": {
    "scrolled": false
   },
   "outputs": [],
   "source": [
    "# Calling the defined functions for search\n",
    "tours = []\n",
    "commute = 1\n",
    "\n",
    "while total_consignment > 0:\n",
    "    print(f\"\\nCOMMUTE : {commute}\")\n",
    "    print(f\"Remaining Consignment : {total_consignment}\")\n",
    "    robot_bag = []\n",
    "    robot_bag_cap = robot_bag_size\n",
    "    temp_packet = get_max_packet(packet_dict)\n",
    "    robot_bag_weights = fill_robot_bag(packet_dict, robot_bag_cap, temp_packet, robot_bag)\n",
    "    print(f\"ROBOT BAG has: {robot_bag_weights}  Net weight : {sum(robot_bag_weights)}\")\n",
    "    tours.append(robot_bag_weights)\n",
    "    fill_best_room(godown_rooms, robot_bag_weights)\n",
    "    godown_cap = get_godown_capacity(godown_rooms)\n",
    "    print(f\"Remaining Godown Capacity : {godown_cap}\")\n",
    "    if godown_cap == 0:\n",
    "        break\n",
    "    total_consignment = sum([key * val for key, val in packet_dict.items()])\n",
    "    print(packet_dict)\n",
    "    commute = commute + 1\n",
    "\n",
    "print(\"\\nCONSIDERING each traversal has a cost of 1, we get ...\")\n",
    "print(f\"Total cost : {len(tours)}\")"
   ]
  },
  {
   "cell_type": "markdown",
   "metadata": {},
   "source": [
    "### The agent provides the following information-\n",
    "\n",
    "1. The number of commutes to reach the goal\n",
    "2. The weight of packets carried during each commute\n",
    "3. The remaining capacity of the godown and each room after completion of task\n",
    "\n",
    "> COMMUTE : 14                               # No. of commutes done\n",
    "\n",
    "> Remaining Consignment : 1                  # Kgs of Consignment left\n",
    "\n",
    "> ROBOT BAG has: [1]  Net weight : 1         # Robot Bag content as [] and Total bag weight\n",
    "\n",
    "> Filled Room 25 with packet size : 1        # Room of {SIZE} filled with packet {SIZE}\n",
    "\n",
    "> Room size: 25 --> Remaining Capacity: 3    # Room capapcity --> Room remaining capacity\n",
    "\n",
    "> Room size: 5 --> Remaining Capacity: 5\n",
    "\n",
    "> Room size: 28 --> Remaining Capacity: 0\n",
    "\n",
    "> Room size: 35 --> Remaining Capacity: 0\n",
    "\n",
    "> Room size: 20 --> Remaining Capacity: 20\n",
    "\n",
    "> Room size: 46 --> Remaining Capacity: 0\n",
    "\n",
    "> Remaining Godown Capacity : 28             # Go-down remaining capacity\n",
    "\n",
    "> {1: 0, 2: 0, 4: 0, 5: 0, 6: 0, 7: 0, 9: 0} # Consignment content after the traversal\n"
   ]
  },
  {
   "cell_type": "code",
   "execution_count": null,
   "metadata": {},
   "outputs": [],
   "source": []
  }
 ],
 "metadata": {
  "kernelspec": {
   "display_name": "Python 3",
   "language": "python",
   "name": "python3"
  },
  "language_info": {
   "codemirror_mode": {
    "name": "ipython",
    "version": 3
   },
   "file_extension": ".py",
   "mimetype": "text/x-python",
   "name": "python",
   "nbconvert_exporter": "python",
   "pygments_lexer": "ipython3",
   "version": "3.7.10"
  }
 },
 "nbformat": 4,
 "nbformat_minor": 4
}

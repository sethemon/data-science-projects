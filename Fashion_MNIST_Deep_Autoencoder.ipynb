{
 "cells": [
  {
   "cell_type": "code",
   "execution_count": null,
   "metadata": {},
   "outputs": [],
   "source": [
    "import numpy as np\n",
    "\n",
    "import keras\n",
    "from keras.datasets import fashion_mnist\n",
    "from keras import layers"
   ]
  },
  {
   "cell_type": "code",
   "execution_count": null,
   "metadata": {},
   "outputs": [],
   "source": [
    "(x_train, _), (x_test, _) = fashion_mnist.load_data()\n",
    "\n",
    "\n",
    "x_train = x_train.astype('float32') / 255.\n",
    "x_test = x_test.astype('float32') / 255.\n",
    "x_train = x_train.reshape((len(x_train), np.prod(x_train.shape[1:])))\n",
    "x_test = x_test.reshape((len(x_test), np.prod(x_test.shape[1:])))"
   ]
  },
  {
   "cell_type": "code",
   "execution_count": null,
   "metadata": {},
   "outputs": [],
   "source": [
    "print(x_train.shape)   # (60000, 784)\n",
    "print(x_test.shape)    # (10000, 784)"
   ]
  },
  {
   "cell_type": "code",
   "execution_count": 3,
   "metadata": {},
   "outputs": [
    {
     "name": "stdout",
     "output_type": "stream",
     "text": [
      "WARNING:tensorflow:From C:\\Anaconda3\\lib\\site-packages\\keras\\optimizers.py:790: The name tf.train.Optimizer is deprecated. Please use tf.compat.v1.train.Optimizer instead.\n",
      "\n",
      "WARNING:tensorflow:From C:\\Anaconda3\\lib\\site-packages\\keras\\backend\\tensorflow_backend.py:3376: The name tf.log is deprecated. Please use tf.math.log instead.\n",
      "\n",
      "WARNING:tensorflow:From C:\\Anaconda3\\lib\\site-packages\\tensorflow\\python\\ops\\nn_impl.py:180: add_dispatch_support.<locals>.wrapper (from tensorflow.python.ops.array_ops) is deprecated and will be removed in a future version.\n",
      "Instructions for updating:\n",
      "Use tf.where in 2.0, which has the same broadcast rule as np.where\n",
      "_________________________________________________________________\n",
      "Layer (type)                 Output Shape              Param #   \n",
      "=================================================================\n",
      "input_3 (InputLayer)         (None, 784)               0         \n",
      "_________________________________________________________________\n",
      "dense_7 (Dense)              (None, 128)               100480    \n",
      "_________________________________________________________________\n",
      "dense_8 (Dense)              (None, 64)                8256      \n",
      "_________________________________________________________________\n",
      "dense_9 (Dense)              (None, 32)                2080      \n",
      "_________________________________________________________________\n",
      "dense_10 (Dense)             (None, 64)                2112      \n",
      "_________________________________________________________________\n",
      "dense_11 (Dense)             (None, 128)               8320      \n",
      "_________________________________________________________________\n",
      "dense_12 (Dense)             (None, 784)               101136    \n",
      "=================================================================\n",
      "Total params: 222,384\n",
      "Trainable params: 222,384\n",
      "Non-trainable params: 0\n",
      "_________________________________________________________________\n"
     ]
    }
   ],
   "source": [
    "encoding_dim = 32  # Size of our encoded representations \n",
    "\n",
    "# encoder\n",
    "input_img = keras.Input(shape=(x_train.shape[1],))\n",
    "encoded = layers.Dense(128, activation='relu')(input_img)\n",
    "encoded = layers.Dense(64, activation='relu')(encoded)\n",
    "encoded = layers.Dense(32, activation='relu')(encoded)\n",
    "\n",
    "# decoder\n",
    "decoded = layers.Dense(64, activation='relu')(encoded)\n",
    "decoded = layers.Dense(128, activation='relu')(decoded)\n",
    "decoded = layers.Dense(x_train.shape[1], activation='sigmoid')(decoded) \n",
    "\n",
    "autoencoder = keras.Model(input_img, decoded)\n",
    "autoencoder.compile(optimizer='adam', loss='binary_crossentropy')\n",
    "autoencoder.summary()"
   ]
  },
  {
   "cell_type": "code",
   "execution_count": 4,
   "metadata": {},
   "outputs": [
    {
     "name": "stdout",
     "output_type": "stream",
     "text": [
      "WARNING:tensorflow:From C:\\Anaconda3\\lib\\site-packages\\keras\\backend\\tensorflow_backend.py:986: The name tf.assign_add is deprecated. Please use tf.compat.v1.assign_add instead.\n",
      "\n",
      "Train on 60000 samples, validate on 10000 samples\n",
      "Epoch 1/50\n",
      "60000/60000 [==============================] - 6s 107us/step - loss: 0.3786 - val_loss: 0.3192\n",
      "Epoch 2/50\n",
      "60000/60000 [==============================] - 5s 85us/step - loss: 0.3101 - val_loss: 0.3096\n",
      "Epoch 3/50\n",
      "60000/60000 [==============================] - 5s 81us/step - loss: 0.3020 - val_loss: 0.3013\n",
      "Epoch 4/50\n",
      "60000/60000 [==============================] - 5s 75us/step - loss: 0.2972 - val_loss: 0.2973\n",
      "Epoch 5/50\n",
      "60000/60000 [==============================] - 5s 76us/step - loss: 0.2938 - val_loss: 0.2963\n",
      "Epoch 6/50\n",
      "60000/60000 [==============================] - 5s 77us/step - loss: 0.2915 - val_loss: 0.2924\n",
      "Epoch 7/50\n",
      "60000/60000 [==============================] - 5s 85us/step - loss: 0.2896 - val_loss: 0.2909\n",
      "Epoch 8/50\n",
      "60000/60000 [==============================] - 5s 83us/step - loss: 0.2882 - val_loss: 0.2897\n",
      "Epoch 9/50\n",
      "60000/60000 [==============================] - 5s 76us/step - loss: 0.2869 - val_loss: 0.2891\n",
      "Epoch 10/50\n",
      "60000/60000 [==============================] - 4s 75us/step - loss: 0.2859 - val_loss: 0.2880\n",
      "Epoch 11/50\n",
      "60000/60000 [==============================] - 4s 72us/step - loss: 0.2850 - val_loss: 0.2867\n",
      "Epoch 12/50\n",
      "60000/60000 [==============================] - 4s 74us/step - loss: 0.2842 - val_loss: 0.2860\n",
      "Epoch 13/50\n",
      "60000/60000 [==============================] - 5s 79us/step - loss: 0.2833 - val_loss: 0.2853\n",
      "Epoch 14/50\n",
      "60000/60000 [==============================] - 4s 72us/step - loss: 0.2826 - val_loss: 0.2847\n",
      "Epoch 15/50\n",
      "60000/60000 [==============================] - 4s 72us/step - loss: 0.2820 - val_loss: 0.2839\n",
      "Epoch 16/50\n",
      "60000/60000 [==============================] - 4s 73us/step - loss: 0.2815 - val_loss: 0.2840\n",
      "Epoch 17/50\n",
      "60000/60000 [==============================] - 5s 88us/step - loss: 0.2809 - val_loss: 0.2831\n",
      "Epoch 18/50\n",
      "60000/60000 [==============================] - 4s 74us/step - loss: 0.2805 - val_loss: 0.2827\n",
      "Epoch 19/50\n",
      "60000/60000 [==============================] - 4s 74us/step - loss: 0.2800 - val_loss: 0.2825\n",
      "Epoch 20/50\n",
      "60000/60000 [==============================] - 5s 80us/step - loss: 0.2797 - val_loss: 0.2820\n",
      "Epoch 21/50\n",
      "60000/60000 [==============================] - 4s 73us/step - loss: 0.2794 - val_loss: 0.2820\n",
      "Epoch 22/50\n",
      "60000/60000 [==============================] - 5s 81us/step - loss: 0.2790 - val_loss: 0.2819\n",
      "Epoch 23/50\n",
      "60000/60000 [==============================] - 5s 87us/step - loss: 0.2787 - val_loss: 0.2810\n",
      "Epoch 24/50\n",
      "60000/60000 [==============================] - 5s 76us/step - loss: 0.2784 - val_loss: 0.2809\n",
      "Epoch 25/50\n",
      "60000/60000 [==============================] - 4s 70us/step - loss: 0.2781 - val_loss: 0.2803\n",
      "Epoch 26/50\n",
      "60000/60000 [==============================] - 4s 71us/step - loss: 0.2778 - val_loss: 0.2806\n",
      "Epoch 27/50\n",
      "60000/60000 [==============================] - 4s 70us/step - loss: 0.2776 - val_loss: 0.2811\n",
      "Epoch 28/50\n",
      "60000/60000 [==============================] - 4s 70us/step - loss: 0.2774 - val_loss: 0.2799\n",
      "Epoch 29/50\n",
      "60000/60000 [==============================] - 5s 78us/step - loss: 0.2772 - val_loss: 0.2797\n",
      "Epoch 30/50\n",
      "60000/60000 [==============================] - 5s 80us/step - loss: 0.2770 - val_loss: 0.2792\n",
      "Epoch 31/50\n",
      "60000/60000 [==============================] - 5s 79us/step - loss: 0.2767 - val_loss: 0.2792\n",
      "Epoch 32/50\n",
      "60000/60000 [==============================] - 5s 83us/step - loss: 0.2766 - val_loss: 0.2789\n",
      "Epoch 33/50\n",
      "60000/60000 [==============================] - 5s 80us/step - loss: 0.2764 - val_loss: 0.2791\n",
      "Epoch 34/50\n",
      "60000/60000 [==============================] - 5s 77us/step - loss: 0.2762 - val_loss: 0.2787\n",
      "Epoch 35/50\n",
      "60000/60000 [==============================] - 4s 74us/step - loss: 0.2759 - val_loss: 0.2784\n",
      "Epoch 36/50\n",
      "60000/60000 [==============================] - 5s 76us/step - loss: 0.2758 - val_loss: 0.2785\n",
      "Epoch 37/50\n",
      "60000/60000 [==============================] - 5s 76us/step - loss: 0.2756 - val_loss: 0.2782\n",
      "Epoch 38/50\n",
      "60000/60000 [==============================] - 4s 75us/step - loss: 0.2755 - val_loss: 0.2782\n",
      "Epoch 39/50\n",
      "60000/60000 [==============================] - 5s 77us/step - loss: 0.2754 - val_loss: 0.2780\n",
      "Epoch 40/50\n",
      "60000/60000 [==============================] - 5s 79us/step - loss: 0.2752 - val_loss: 0.2778\n",
      "Epoch 41/50\n",
      "60000/60000 [==============================] - 5s 78us/step - loss: 0.2751 - val_loss: 0.2774\n",
      "Epoch 42/50\n",
      "60000/60000 [==============================] - 5s 76us/step - loss: 0.2750 - val_loss: 0.2774\n",
      "Epoch 43/50\n",
      "60000/60000 [==============================] - 5s 80us/step - loss: 0.2748 - val_loss: 0.2773\n",
      "Epoch 44/50\n",
      "60000/60000 [==============================] - 5s 79us/step - loss: 0.2747 - val_loss: 0.2771\n",
      "Epoch 45/50\n",
      "60000/60000 [==============================] - 5s 76us/step - loss: 0.2746 - val_loss: 0.2771\n",
      "Epoch 46/50\n",
      "60000/60000 [==============================] - 4s 72us/step - loss: 0.2744 - val_loss: 0.2770\n",
      "Epoch 47/50\n",
      "60000/60000 [==============================] - 4s 71us/step - loss: 0.2744 - val_loss: 0.2770\n",
      "Epoch 48/50\n",
      "60000/60000 [==============================] - 5s 77us/step - loss: 0.2742 - val_loss: 0.2771\n",
      "Epoch 49/50\n",
      "60000/60000 [==============================] - 5s 82us/step - loss: 0.2741 - val_loss: 0.2769\n",
      "Epoch 50/50\n",
      "60000/60000 [==============================] - 5s 78us/step - loss: 0.2740 - val_loss: 0.2767\n"
     ]
    },
    {
     "data": {
      "text/plain": [
       "<keras.callbacks.History at 0x24771940358>"
      ]
     },
     "execution_count": 4,
     "metadata": {},
     "output_type": "execute_result"
    }
   ],
   "source": [
    "autoencoder.fit(x_train, x_train, epochs=50, batch_size=256, shuffle=True,\n",
    "                validation_data=(x_test, x_test))\n"
   ]
  },
  {
   "cell_type": "code",
   "execution_count": 5,
   "metadata": {},
   "outputs": [],
   "source": [
    "decoded_imgs = autoencoder.predict(x_test)\n"
   ]
  },
  {
   "cell_type": "code",
   "execution_count": 7,
   "metadata": {},
   "outputs": [
    {
     "name": "stdout",
     "output_type": "stream",
     "text": [
      "First row is orignal images\n"
     ]
    },
    {
     "data": {
      "image/png": "[encoded data removed]",
      "text/plain": [
       "<Figure size 1440x288 with 20 Axes>"
      ]
     },
     "metadata": {
      "needs_background": "light"
     },
     "output_type": "display_data"
    },
    {
     "name": "stdout",
     "output_type": "stream",
     "text": [
      "Second row is reconstrcuted images\n"
     ]
    }
   ],
   "source": [
    "import matplotlib.pyplot as plt\n",
    "\n",
    "print('First row is orignal images')\n",
    "n = 10  # How many digits we will display\n",
    "plt.figure(figsize=(20, 4))\n",
    "for i in range(n):\n",
    "    # Display original\n",
    "    ax = plt.subplot(2, n, i + 1)\n",
    "    plt.imshow(x_test[i].reshape(28, 28))\n",
    "    plt.gray()\n",
    "    ax.get_xaxis().set_visible(False)\n",
    "    ax.get_yaxis().set_visible(False)\n",
    "\n",
    "    # Display reconstruction\n",
    "    ax = plt.subplot(2, n, i + 1 + n)\n",
    "    plt.imshow(decoded_imgs[i].reshape(28, 28))\n",
    "    plt.gray()\n",
    "    ax.get_xaxis().set_visible(False)\n",
    "    ax.get_yaxis().set_visible(False)\n",
    "plt.show()\n",
    "print('Second row is reconstrcuted images')"
   ]
  },
  {
   "cell_type": "code",
   "execution_count": 8,
   "metadata": {},
   "outputs": [
    {
     "name": "stdout",
     "output_type": "stream",
     "text": [
      "Encoded representations\n"
     ]
    },
    {
     "data": {
      "image/png": "[encoded data removed]",
      "text/plain": [
       "<Figure size 1440x576 with 10 Axes>"
      ]
     },
     "metadata": {
      "needs_background": "light"
     },
     "output_type": "display_data"
    }
   ],
   "source": [
    "encoder = keras.Model(input_img, encoded)\n",
    "encoded_imgs = encoder.predict(x_test)\n",
    "\n",
    "print('Encoded representations')\n",
    "n = 10\n",
    "plt.figure(figsize=(20, 8))\n",
    "for i in range(1, n + 1):\n",
    "    ax = plt.subplot(1, n, i)\n",
    "    plt.imshow(encoded_imgs[i].reshape((1, 4 * 8)).T)\n",
    "    plt.gray()\n",
    "    ax.get_xaxis().set_visible(False)\n",
    "    ax.get_yaxis().set_visible(False)\n",
    "plt.show()\n"
   ]
  }
 ],
 "metadata": {
  "kernelspec": {
   "display_name": "Python 3",
   "language": "python",
   "name": "python3"
  },
  "language_info": {
   "codemirror_mode": {
    "name": "ipython",
    "version": 3
   },
   "file_extension": ".py",
   "mimetype": "text/x-python",
   "name": "python",
   "nbconvert_exporter": "python",
   "pygments_lexer": "ipython3",
   "version": "3.7.10"
  }
 },
 "nbformat": 4,
 "nbformat_minor": 2
}

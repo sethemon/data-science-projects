{
 "cells": [
  {
   "cell_type": "markdown",
   "id": "e98b19b1",
   "metadata": {},
   "source": [
    "## Node Similarity in Graphs\n",
    "\n",
    "Node similarity is an important task in graph analysis, many node similarity approaches have been proposed \n",
    "in the literature. In this problem you are asked to compute node similarity using the following approaches \n",
    "for a Drug-Gene graph available at https://snap.stanford.edu/biodata/datasets/10002/10002-ChG-Miner.html \n",
    "(click on link ChG-Miner_miner-chem-gene.tsv.gz) to download the graph and identify the top 10 drug-drug pairs \n",
    "i.e. pairs of drugs that are similar.\n",
    "\n",
    "1. Compute pairwise similarity for drugs node pairs (i.e. similarity between nodes u and v \n",
    "where both are drugs nodes) based on common neighbors. You may use one of the well known methods \n",
    "such as Jaccard, cosine etc. similarity measures.\n",
    "2. Compute pairwise node similarity using the Sim-rank algorithm \n",
    "Compare and contrast the results using the two similarity measures (Jaccard/cosine etc. and Sim-Rank). \n",
    "Also try to interpret the similarity results from the two similarity measures.\n",
    "\n",
    "Note: Node similarity using the Sim-Rank approach is available in NetworkX library. \n",
    "\n",
    "\n",
    "References:\n",
    "\n",
    "https://networkx.org/documentation/networkx-1.7/tutorial/tutorial.html\n",
    "\n",
    "http://snap.stanford.edu/snappy/index.html"
   ]
  },
  {
   "cell_type": "code",
   "execution_count": 1,
   "id": "925368ee",
   "metadata": {},
   "outputs": [],
   "source": [
    "import gzip\n",
    "import shutil\n",
    "\n",
    "from pathlib import Path\n",
    "import pandas as pd\n",
    "import networkx as net\n",
    "import matplotlib.pyplot as plt\n",
    "import operator\n"
   ]
  },
  {
   "cell_type": "code",
   "execution_count": 2,
   "id": "02cf33e9",
   "metadata": {
    "scrolled": false
   },
   "outputs": [
    {
     "data": {
      "text/html": [
       "<div>\n",
       "<style scoped>\n",
       "    .dataframe tbody tr th:only-of-type {\n",
       "        vertical-align: middle;\n",
       "    }\n",
       "\n",
       "    .dataframe tbody tr th {\n",
       "        vertical-align: top;\n",
       "    }\n",
       "\n",
       "    .dataframe thead th {\n",
       "        text-align: right;\n",
       "    }\n",
       "</style>\n",
       "<table border=\"1\" class=\"dataframe\">\n",
       "  <thead>\n",
       "    <tr style=\"text-align: right;\">\n",
       "      <th></th>\n",
       "      <th>#Drug</th>\n",
       "      <th>Gene</th>\n",
       "    </tr>\n",
       "  </thead>\n",
       "  <tbody>\n",
       "    <tr>\n",
       "      <th>0</th>\n",
       "      <td>DB00357</td>\n",
       "      <td>P05108</td>\n",
       "    </tr>\n",
       "    <tr>\n",
       "      <th>1</th>\n",
       "      <td>DB02721</td>\n",
       "      <td>P00325</td>\n",
       "    </tr>\n",
       "    <tr>\n",
       "      <th>2</th>\n",
       "      <td>DB00773</td>\n",
       "      <td>P23219</td>\n",
       "    </tr>\n",
       "    <tr>\n",
       "      <th>3</th>\n",
       "      <td>DB07138</td>\n",
       "      <td>Q16539</td>\n",
       "    </tr>\n",
       "    <tr>\n",
       "      <th>4</th>\n",
       "      <td>DB08136</td>\n",
       "      <td>P24941</td>\n",
       "    </tr>\n",
       "    <tr>\n",
       "      <th>...</th>\n",
       "      <td>...</td>\n",
       "      <td>...</td>\n",
       "    </tr>\n",
       "    <tr>\n",
       "      <th>15134</th>\n",
       "      <td>DB01215</td>\n",
       "      <td>P47870</td>\n",
       "    </tr>\n",
       "    <tr>\n",
       "      <th>15135</th>\n",
       "      <td>DB06089</td>\n",
       "      <td>P51787</td>\n",
       "    </tr>\n",
       "    <tr>\n",
       "      <th>15136</th>\n",
       "      <td>DB01614</td>\n",
       "      <td>P21728</td>\n",
       "    </tr>\n",
       "    <tr>\n",
       "      <th>15137</th>\n",
       "      <td>DB00582</td>\n",
       "      <td>P08684</td>\n",
       "    </tr>\n",
       "    <tr>\n",
       "      <th>15138</th>\n",
       "      <td>DB04793</td>\n",
       "      <td>P07477</td>\n",
       "    </tr>\n",
       "  </tbody>\n",
       "</table>\n",
       "<p>15139 rows × 2 columns</p>\n",
       "</div>"
      ],
      "text/plain": [
       "         #Drug    Gene\n",
       "0      DB00357  P05108\n",
       "1      DB02721  P00325\n",
       "2      DB00773  P23219\n",
       "3      DB07138  Q16539\n",
       "4      DB08136  P24941\n",
       "...        ...     ...\n",
       "15134  DB01215  P47870\n",
       "15135  DB06089  P51787\n",
       "15136  DB01614  P21728\n",
       "15137  DB00582  P08684\n",
       "15138  DB04793  P07477\n",
       "\n",
       "[15139 rows x 2 columns]"
      ]
     },
     "execution_count": 2,
     "metadata": {},
     "output_type": "execute_result"
    }
   ],
   "source": [
    "with gzip.open('ChG-Miner_miner-chem-gene.tsv.gz') as f:\n",
    "    drugs = pd.read_csv(f, delimiter='\\t')\n",
    "\n",
    "drugs"
   ]
  },
  {
   "cell_type": "code",
   "execution_count": 3,
   "id": "d0486a62",
   "metadata": {},
   "outputs": [
    {
     "data": {
      "text/plain": [
       "['#Drug', 'Gene']"
      ]
     },
     "execution_count": 3,
     "metadata": {},
     "output_type": "execute_result"
    }
   ],
   "source": [
    "list(drugs.columns)"
   ]
  },
  {
   "cell_type": "code",
   "execution_count": 4,
   "id": "9095473c",
   "metadata": {},
   "outputs": [],
   "source": [
    "# G = net.Graph()\n",
    "# # Add edges and edge attributes\n",
    "# for i, row in drugs.iterrows():\n",
    "#     G.add_edge(row[0], row[1])\n",
    "    \n",
    "G = net.from_pandas_edgelist(drugs, '#Drug', 'Gene')"
   ]
  },
  {
   "cell_type": "code",
   "execution_count": null,
   "id": "f2d941ca",
   "metadata": {},
   "outputs": [],
   "source": [
    "list(G.edges(data=True))"
   ]
  },
  {
   "cell_type": "code",
   "execution_count": null,
   "id": "f15c10a9",
   "metadata": {
    "scrolled": true
   },
   "outputs": [],
   "source": [
    "list(net.connected_components(G))"
   ]
  },
  {
   "cell_type": "code",
   "execution_count": null,
   "id": "1db78269",
   "metadata": {},
   "outputs": [],
   "source": [
    "plt.figure(figsize=(350, 350))\n",
    "# nx.draw(G, node_size=6, node_color='blue')\n",
    "net.draw_networkx(G, node_size=6, node_color='blue')\n",
    "plt.title('Graph Representation of Drug-target interaction Network', size=15)\n",
    "plt.axis('off')\n",
    "plt.savefig(\"drugs1.png\")\n",
    "plt.show()"
   ]
  },
  {
   "cell_type": "code",
   "execution_count": null,
   "id": "18986b27",
   "metadata": {
    "scrolled": false
   },
   "outputs": [],
   "source": [
    "for components in list(net.connected_components(G)):\n",
    "    print(f\"Component size : {len(components)}\")\n",
    "    if len(components) > 100:\n",
    "        H = G.subgraph(components)\n",
    "    elif len(components) > 20:\n",
    "        I = G.subgraph(components)\n",
    "    elif len(components) > 10:\n",
    "        J = G.subgraph(components)\n",
    "    else:\n",
    "        print(components)"
   ]
  },
  {
   "cell_type": "markdown",
   "id": "d5abec15",
   "metadata": {},
   "source": [
    "#### Identify the top 10 drug-drug pairs i.e. pairs of drugs that are similar."
   ]
  },
  {
   "cell_type": "code",
   "execution_count": 49,
   "id": "e2ce2d79",
   "metadata": {},
   "outputs": [],
   "source": [
    "drugs_rank = net.pagerank_numpy(G, alpha=0.9)"
   ]
  },
  {
   "cell_type": "code",
   "execution_count": 50,
   "id": "cdd1c03e",
   "metadata": {},
   "outputs": [
    {
     "data": {
      "text/plain": [
       "{'P08684': 0.011778982280539778,\n",
       " 'P24941': 0.006749777697606485,\n",
       " 'DB00157': 0.005983203977902857,\n",
       " 'P10635': 0.005862599733219345,\n",
       " 'P11712': 0.00547986649043369,\n",
       " 'P07477': 0.00520074289511515,\n",
       " 'P05177': 0.005120762238715825,\n",
       " 'P00734': 0.005030194441549057,\n",
       " 'P33261': 0.00405132207619656,\n",
       " 'P00918': 0.0038840737240329135,\n",
       " 'P10632': 0.003510919710299439,\n",
       " 'P18031': 0.003400314981254162,\n",
       " 'P20815': 0.0032962511961500845,\n",
       " 'Q16539': 0.0029822752268185543,\n",
       " 'P27487': 0.0028311179318616783,\n",
       " 'P11217': 0.0026183723691104283,\n",
       " 'P07900': 0.0025783289781575983,\n",
       " 'P05181': 0.0023945604309667124,\n",
       " 'P20813': 0.0023498365277685256,\n",
       " 'DB00142': 0.002340918552640535}"
      ]
     },
     "execution_count": 50,
     "metadata": {},
     "output_type": "execute_result"
    }
   ],
   "source": [
    "top20 = dict(sorted(drugs_rank.items(), key=operator.itemgetter(1), reverse=True)[:20])    \n",
    "top20"
   ]
  },
  {
   "cell_type": "code",
   "execution_count": 51,
   "id": "b8da7fd3",
   "metadata": {},
   "outputs": [],
   "source": [
    "top_nodes = list(top20.keys())\n",
    "sub_graph = [(top_nodes[i], top_nodes[i+1]) for i in range(0, 11)]"
   ]
  },
  {
   "cell_type": "markdown",
   "id": "23c8336f",
   "metadata": {},
   "source": [
    "#### Compute pairwise similarity for drugs node pairs (i.e. similarity between nodes u and v where both are drugs nodes) based on common neighbors. You may use one of the well known methods such as Jaccard, cosine etc. similarity measures."
   ]
  },
  {
   "cell_type": "code",
   "execution_count": 54,
   "id": "389771bc",
   "metadata": {},
   "outputs": [],
   "source": [
    "preds = net.jaccard_coefficient(G, sub_graph)"
   ]
  },
  {
   "cell_type": "code",
   "execution_count": 55,
   "id": "f905f45d",
   "metadata": {},
   "outputs": [
    {
     "name": "stdout",
     "output_type": "stream",
     "text": [
      "(P08684, P24941) -> 0.00138889\n",
      "(P24941, DB00157) -> 0.00000000\n",
      "(DB00157, P10635) -> 0.00000000\n",
      "(P10635, P11712) -> 0.29237288\n",
      "(P11712, P07477) -> 0.00000000\n",
      "(P07477, P05177) -> 0.00000000\n",
      "(P05177, P00734) -> 0.00274725\n",
      "(P00734, P33261) -> 0.00000000\n",
      "(P33261, P00918) -> 0.00943396\n",
      "(P00918, P10632) -> 0.00000000\n",
      "(P10632, P18031) -> 0.00000000\n"
     ]
    }
   ],
   "source": [
    "for u, v, p in preds:\n",
    "    print(f\"({u}, {v}) -> {p:.8f}\")"
   ]
  },
  {
   "cell_type": "markdown",
   "id": "d6aaa737",
   "metadata": {},
   "source": [
    "#### Considering a sub-graph \"I\" since sim_rank is taking very long to compute"
   ]
  },
  {
   "cell_type": "code",
   "execution_count": 40,
   "id": "dd7917db",
   "metadata": {},
   "outputs": [],
   "source": [
    "preds = net.jaccard_coefficient(I, sub_graph)"
   ]
  },
  {
   "cell_type": "code",
   "execution_count": 41,
   "id": "44bc9be0",
   "metadata": {},
   "outputs": [
    {
     "name": "stdout",
     "output_type": "stream",
     "text": [
      "(P56817, DB07415) -> 0.00000000\n",
      "(DB07415, DB07281) -> 1.00000000\n",
      "(DB07281, DB07573) -> 1.00000000\n",
      "(DB07573, DB07519) -> 1.00000000\n",
      "(DB07519, DB08929) -> 1.00000000\n",
      "(DB08929, DB07284) -> 1.00000000\n",
      "(DB07284, DB07535) -> 1.00000000\n",
      "(DB07535, DB07206) -> 1.00000000\n",
      "(DB07206, DB07993) -> 1.00000000\n",
      "(DB07993, DB07175) -> 1.00000000\n",
      "(DB07175, DB07110) -> 1.00000000\n"
     ]
    }
   ],
   "source": [
    "for u, v, p in preds:\n",
    "    print(f\"({u}, {v}) -> {p:.8f}\")"
   ]
  },
  {
   "cell_type": "markdown",
   "id": "cfe6b2c6",
   "metadata": {},
   "source": [
    "#### Compute pairwise node similarity using the Sim-rank algorithm. "
   ]
  },
  {
   "cell_type": "code",
   "execution_count": 46,
   "id": "457bc575",
   "metadata": {
    "scrolled": true
   },
   "outputs": [
    {
     "name": "stdout",
     "output_type": "stream",
     "text": [
      "0.9\n"
     ]
    }
   ],
   "source": [
    "print(net.simrank_similarity(I, source='DB07415', target='DB07281'))"
   ]
  },
  {
   "cell_type": "code",
   "execution_count": 47,
   "id": "75449bb1",
   "metadata": {},
   "outputs": [
    {
     "name": "stdout",
     "output_type": "stream",
     "text": [
      "0.0\n"
     ]
    }
   ],
   "source": [
    "print(net.simrank_similarity(I, source='P56817', target='DB07415'))"
   ]
  },
  {
   "cell_type": "code",
   "execution_count": 48,
   "id": "8e19368c",
   "metadata": {},
   "outputs": [
    {
     "name": "stdout",
     "output_type": "stream",
     "text": [
      "0.9\n"
     ]
    }
   ],
   "source": [
    "print(net.simrank_similarity(I, source='DB07175', target='DB07110'))"
   ]
  },
  {
   "cell_type": "markdown",
   "id": "a73f45a5",
   "metadata": {},
   "source": [
    "We can clearly see that the similarity scores are almost similar for this selected sub-graph nodes"
   ]
  },
  {
   "cell_type": "markdown",
   "id": "e2c608f7",
   "metadata": {},
   "source": [
    "#### Compare and contrast the results using the two similarity measures (Jaccard/cosine etc. and Sim-Rank). Also try to interpret the similarity results from the two similarity measures."
   ]
  },
  {
   "cell_type": "markdown",
   "id": "77e11252",
   "metadata": {},
   "source": [
    "SimRank is a general similarity measure, based on a simple and intuitive graph-theoretic model. SimRank is applicable in any domain with object-to-object relationships, that measures similarity of the structural context in which objects occur, based on their relationships with other objects. SimRank is a similarity metric that says “two objects are considered to be similar if they are referenced by similar objects.” \n",
    "\n",
    "The Jaccard Similarity, also called the Jaccard Index or Jaccard Similarity Coefficient, is a classic measure of similarity between two sets that was introduced by Paul Jaccard in 1901. Given two sets, A and B, the Jaccard Similarity is defined as the size of the intersection of set A and set B (i.e. the number of common elements) over the size of the union of set A and set B (i.e. the number of unique elements).\n",
    "\n",
    "\n",
    "So, for our graph, Jaccard similarity scores denote the common edges interaction between nodes and SimRank similarity gives the reference measures, which comes out to be very similar since we have considered a small sub-graph. For a large graph, scores might vary based on the scenarios. "
   ]
  }
 ],
 "metadata": {
  "kernelspec": {
   "display_name": "Python 3",
   "language": "python",
   "name": "python3"
  },
  "language_info": {
   "codemirror_mode": {
    "name": "ipython",
    "version": 3
   },
   "file_extension": ".py",
   "mimetype": "text/x-python",
   "name": "python",
   "nbconvert_exporter": "python",
   "pygments_lexer": "ipython3",
   "version": "3.7.10"
  }
 },
 "nbformat": 4,
 "nbformat_minor": 5
}
